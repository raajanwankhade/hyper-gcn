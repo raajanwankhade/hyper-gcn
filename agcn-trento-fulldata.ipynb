{
 "cells": [
  {
   "cell_type": "code",
   "execution_count": 1,
   "id": "4c64b691",
   "metadata": {
    "_cell_guid": "b1076dfc-b9ad-4769-8c92-a6c4dae69d19",
    "_uuid": "8f2839f25d086af736a60e9eeb907d3b93b6e0e5",
    "execution": {
     "iopub.execute_input": "2025-04-01T08:57:59.599412Z",
     "iopub.status.busy": "2025-04-01T08:57:59.599086Z",
     "iopub.status.idle": "2025-04-01T08:58:10.016019Z",
     "shell.execute_reply": "2025-04-01T08:58:10.015128Z"
    },
    "papermill": {
     "duration": 10.431434,
     "end_time": "2025-04-01T08:58:10.018137",
     "exception": false,
     "start_time": "2025-04-01T08:57:59.586703",
     "status": "completed"
    },
    "tags": []
   },
   "outputs": [
    {
     "name": "stdout",
     "output_type": "stream",
     "text": [
      "Collecting einops\r\n",
      "  Downloading einops-0.8.1-py3-none-any.whl.metadata (13 kB)\r\n",
      "Collecting torchsummary\r\n",
      "  Downloading torchsummary-1.5.1-py3-none-any.whl.metadata (296 bytes)\r\n",
      "Downloading einops-0.8.1-py3-none-any.whl (64 kB)\r\n",
      "\u001b[2K   \u001b[90m━━━━━━━━━━━━━━━━━━━━━━━━━━━━━━━━━━━━━━━━\u001b[0m \u001b[32m64.4/64.4 kB\u001b[0m \u001b[31m2.2 MB/s\u001b[0m eta \u001b[36m0:00:00\u001b[0m\r\n",
      "\u001b[?25hDownloading torchsummary-1.5.1-py3-none-any.whl (2.8 kB)\r\n",
      "Installing collected packages: torchsummary, einops\r\n",
      "Successfully installed einops-0.8.1 torchsummary-1.5.1\r\n"
     ]
    }
   ],
   "source": [
    "! pip install einops torchsummary"
   ]
  },
  {
   "cell_type": "code",
   "execution_count": 2,
   "id": "6515e3e6",
   "metadata": {
    "execution": {
     "iopub.execute_input": "2025-04-01T08:58:10.041847Z",
     "iopub.status.busy": "2025-04-01T08:58:10.041235Z",
     "iopub.status.idle": "2025-04-01T08:58:17.581696Z",
     "shell.execute_reply": "2025-04-01T08:58:17.580794Z"
    },
    "papermill": {
     "duration": 7.554695,
     "end_time": "2025-04-01T08:58:17.583807",
     "exception": false,
     "start_time": "2025-04-01T08:58:10.029112",
     "status": "completed"
    },
    "tags": []
   },
   "outputs": [],
   "source": [
    "import sys\n",
    "sys.path.append(\"./../\")\n",
    "import matplotlib.pyplot as plt\n",
    "from torchsummary import summary\n",
    "from sklearn.metrics import confusion_matrix, accuracy_score, classification_report, cohen_kappa_score, recall_score\n",
    "import math\n",
    "from PIL import Image\n",
    "import time\n",
    "from scipy.io import loadmat as loadmat\n",
    "import h5py\n",
    "from scipy import io\n",
    "import random\n",
    "import numpy as np\n",
    "import os\n",
    "import shutil\n",
    "from tqdm.notebook import tqdm\n",
    "import torch\n",
    "import torch.utils.data as dataf\n",
    "import torch.nn as nn\n",
    "from torch.utils.data import Dataset, DataLoader\n",
    "from operator import truediv\n",
    "import pandas as pd\n",
    "import spectral\n",
    "from sklearn.model_selection import train_test_split\n",
    "import seaborn as sns\n",
    "import torch.backends.cudnn as cudnn\n",
    "cudnn.deterministic = True\n",
    "cudnn.benchmark = False\n",
    "from einops import rearrange, repeat\n",
    "import copy\n",
    "import time\n",
    "import torchvision.transforms.functional as TF\n",
    "import torch.nn.functional as F\n",
    "import torch.optim as optim\n",
    "from torch import einsum\n",
    "import torch.backends.cudnn as cudnn\n",
    "cudnn.deterministic = True\n",
    "cudnn.benchmark = False\n",
    "cudnn.enabled = False\n",
    "from sklearn.decomposition import PCA"
   ]
  },
  {
   "cell_type": "code",
   "execution_count": 3,
   "id": "fadeadb8",
   "metadata": {
    "execution": {
     "iopub.execute_input": "2025-04-01T08:58:17.608041Z",
     "iopub.status.busy": "2025-04-01T08:58:17.607546Z",
     "iopub.status.idle": "2025-04-01T08:58:17.614180Z",
     "shell.execute_reply": "2025-04-01T08:58:17.613575Z"
    },
    "papermill": {
     "duration": 0.019816,
     "end_time": "2025-04-01T08:58:17.615807",
     "exception": false,
     "start_time": "2025-04-01T08:58:17.595991",
     "status": "completed"
    },
    "tags": []
   },
   "outputs": [],
   "source": [
    "random_seed = 42\n",
    "random.seed(random_seed)\n",
    "torch.manual_seed(random_seed)\n",
    "torch.cuda.manual_seed_all(random_seed)"
   ]
  },
  {
   "cell_type": "code",
   "execution_count": null,
   "id": "406541b2",
   "metadata": {
    "papermill": {
     "duration": 0.010662,
     "end_time": "2025-04-01T08:58:17.637700",
     "exception": false,
     "start_time": "2025-04-01T08:58:17.627038",
     "status": "completed"
    },
    "tags": []
   },
   "outputs": [],
   "source": []
  },
  {
   "cell_type": "code",
   "execution_count": 4,
   "id": "1dc7031c",
   "metadata": {
    "execution": {
     "iopub.execute_input": "2025-04-01T08:58:17.660294Z",
     "iopub.status.busy": "2025-04-01T08:58:17.660007Z",
     "iopub.status.idle": "2025-04-01T08:58:17.992082Z",
     "shell.execute_reply": "2025-04-01T08:58:17.991103Z"
    },
    "papermill": {
     "duration": 0.345479,
     "end_time": "2025-04-01T08:58:17.993803",
     "exception": false,
     "start_time": "2025-04-01T08:58:17.648324",
     "status": "completed"
    },
    "tags": []
   },
   "outputs": [
    {
     "data": {
      "text/plain": [
       "dict_keys(['__header__', '__version__', '__globals__', 'data'])"
      ]
     },
     "execution_count": 4,
     "metadata": {},
     "output_type": "execute_result"
    }
   ],
   "source": [
    "data_file = \"/kaggle/input/trento-full/Italy_hsi.mat\"\n",
    "data = loadmat(data_file)\n",
    "data.keys()\n",
    "# X.shape"
   ]
  },
  {
   "cell_type": "code",
   "execution_count": 5,
   "id": "30994f90",
   "metadata": {
    "execution": {
     "iopub.execute_input": "2025-04-01T08:58:18.016862Z",
     "iopub.status.busy": "2025-04-01T08:58:18.016307Z",
     "iopub.status.idle": "2025-04-01T08:58:18.023050Z",
     "shell.execute_reply": "2025-04-01T08:58:18.022379Z"
    },
    "papermill": {
     "duration": 0.019951,
     "end_time": "2025-04-01T08:58:18.024659",
     "exception": false,
     "start_time": "2025-04-01T08:58:18.004708",
     "status": "completed"
    },
    "tags": []
   },
   "outputs": [],
   "source": [
    "labels = loadmat(\"/kaggle/input/trento-full/allgrd.mat\")[\"mask_test\"]"
   ]
  },
  {
   "cell_type": "code",
   "execution_count": 6,
   "id": "f4dd8be1",
   "metadata": {
    "execution": {
     "iopub.execute_input": "2025-04-01T08:58:18.048021Z",
     "iopub.status.busy": "2025-04-01T08:58:18.047713Z",
     "iopub.status.idle": "2025-04-01T08:58:18.052962Z",
     "shell.execute_reply": "2025-04-01T08:58:18.052190Z"
    },
    "papermill": {
     "duration": 0.018399,
     "end_time": "2025-04-01T08:58:18.054524",
     "exception": false,
     "start_time": "2025-04-01T08:58:18.036125",
     "status": "completed"
    },
    "tags": []
   },
   "outputs": [
    {
     "data": {
      "text/plain": [
       "(166, 600, 63)"
      ]
     },
     "execution_count": 6,
     "metadata": {},
     "output_type": "execute_result"
    }
   ],
   "source": [
    "data['data'][()].shape"
   ]
  },
  {
   "cell_type": "code",
   "execution_count": 7,
   "id": "af692f95",
   "metadata": {
    "execution": {
     "iopub.execute_input": "2025-04-01T08:58:18.077437Z",
     "iopub.status.busy": "2025-04-01T08:58:18.076936Z",
     "iopub.status.idle": "2025-04-01T08:58:18.080669Z",
     "shell.execute_reply": "2025-04-01T08:58:18.080025Z"
    },
    "papermill": {
     "duration": 0.017119,
     "end_time": "2025-04-01T08:58:18.082210",
     "exception": false,
     "start_time": "2025-04-01T08:58:18.065091",
     "status": "completed"
    },
    "tags": []
   },
   "outputs": [],
   "source": [
    "X = data['data'][()]\n",
    "y =labels[()]"
   ]
  },
  {
   "cell_type": "code",
   "execution_count": 8,
   "id": "1bddacfb",
   "metadata": {
    "execution": {
     "iopub.execute_input": "2025-04-01T08:58:18.105135Z",
     "iopub.status.busy": "2025-04-01T08:58:18.104467Z",
     "iopub.status.idle": "2025-04-01T08:58:18.108053Z",
     "shell.execute_reply": "2025-04-01T08:58:18.107367Z"
    },
    "papermill": {
     "duration": 0.01701,
     "end_time": "2025-04-01T08:58:18.109676",
     "exception": false,
     "start_time": "2025-04-01T08:58:18.092666",
     "status": "completed"
    },
    "tags": []
   },
   "outputs": [],
   "source": [
    "# plt.imshow(data['rgb'][()])\n",
    "# plt.axis('off')  \n",
    "# plt.show()"
   ]
  },
  {
   "cell_type": "code",
   "execution_count": 9,
   "id": "ad7891d7",
   "metadata": {
    "execution": {
     "iopub.execute_input": "2025-04-01T08:58:18.131988Z",
     "iopub.status.busy": "2025-04-01T08:58:18.131698Z",
     "iopub.status.idle": "2025-04-01T08:58:18.136479Z",
     "shell.execute_reply": "2025-04-01T08:58:18.135723Z"
    },
    "papermill": {
     "duration": 0.017758,
     "end_time": "2025-04-01T08:58:18.138062",
     "exception": false,
     "start_time": "2025-04-01T08:58:18.120304",
     "status": "completed"
    },
    "tags": []
   },
   "outputs": [
    {
     "data": {
      "text/plain": [
       "(166, 600)"
      ]
     },
     "execution_count": 9,
     "metadata": {},
     "output_type": "execute_result"
    }
   ],
   "source": [
    "y.shape"
   ]
  },
  {
   "cell_type": "code",
   "execution_count": 10,
   "id": "19078886",
   "metadata": {
    "execution": {
     "iopub.execute_input": "2025-04-01T08:58:18.160796Z",
     "iopub.status.busy": "2025-04-01T08:58:18.160479Z",
     "iopub.status.idle": "2025-04-01T08:58:18.164105Z",
     "shell.execute_reply": "2025-04-01T08:58:18.163308Z"
    },
    "papermill": {
     "duration": 0.016824,
     "end_time": "2025-04-01T08:58:18.165600",
     "exception": false,
     "start_time": "2025-04-01T08:58:18.148776",
     "status": "completed"
    },
    "tags": []
   },
   "outputs": [],
   "source": [
    "# y[y == -1] = 0"
   ]
  },
  {
   "cell_type": "code",
   "execution_count": 11,
   "id": "f6e00b29",
   "metadata": {
    "execution": {
     "iopub.execute_input": "2025-04-01T08:58:18.188263Z",
     "iopub.status.busy": "2025-04-01T08:58:18.188014Z",
     "iopub.status.idle": "2025-04-01T08:58:18.193197Z",
     "shell.execute_reply": "2025-04-01T08:58:18.192419Z"
    },
    "papermill": {
     "duration": 0.018525,
     "end_time": "2025-04-01T08:58:18.194866",
     "exception": false,
     "start_time": "2025-04-01T08:58:18.176341",
     "status": "completed"
    },
    "tags": []
   },
   "outputs": [
    {
     "data": {
      "text/plain": [
       "(6, 0)"
      ]
     },
     "execution_count": 11,
     "metadata": {},
     "output_type": "execute_result"
    }
   ],
   "source": [
    "np.max(y), np.min(y)"
   ]
  },
  {
   "cell_type": "code",
   "execution_count": 12,
   "id": "b11a8e25",
   "metadata": {
    "execution": {
     "iopub.execute_input": "2025-04-01T08:58:18.217979Z",
     "iopub.status.busy": "2025-04-01T08:58:18.217451Z",
     "iopub.status.idle": "2025-04-01T08:58:18.222489Z",
     "shell.execute_reply": "2025-04-01T08:58:18.221778Z"
    },
    "papermill": {
     "duration": 0.018355,
     "end_time": "2025-04-01T08:58:18.224169",
     "exception": false,
     "start_time": "2025-04-01T08:58:18.205814",
     "status": "completed"
    },
    "tags": []
   },
   "outputs": [
    {
     "data": {
      "text/plain": [
       "((166, 600, 63), (166, 600))"
      ]
     },
     "execution_count": 12,
     "metadata": {},
     "output_type": "execute_result"
    }
   ],
   "source": [
    "X.shape, y.shape"
   ]
  },
  {
   "cell_type": "code",
   "execution_count": 13,
   "id": "b2918fdd",
   "metadata": {
    "execution": {
     "iopub.execute_input": "2025-04-01T08:58:18.246896Z",
     "iopub.status.busy": "2025-04-01T08:58:18.246379Z",
     "iopub.status.idle": "2025-04-01T08:58:18.251443Z",
     "shell.execute_reply": "2025-04-01T08:58:18.250679Z"
    },
    "papermill": {
     "duration": 0.018529,
     "end_time": "2025-04-01T08:58:18.253520",
     "exception": false,
     "start_time": "2025-04-01T08:58:18.234991",
     "status": "completed"
    },
    "tags": []
   },
   "outputs": [
    {
     "data": {
      "text/plain": [
       "(numpy.ndarray, numpy.ndarray)"
      ]
     },
     "execution_count": 13,
     "metadata": {},
     "output_type": "execute_result"
    }
   ],
   "source": [
    "type(X), type(y)"
   ]
  },
  {
   "cell_type": "code",
   "execution_count": 14,
   "id": "49809919",
   "metadata": {
    "execution": {
     "iopub.execute_input": "2025-04-01T08:58:18.277421Z",
     "iopub.status.busy": "2025-04-01T08:58:18.277153Z",
     "iopub.status.idle": "2025-04-01T08:58:18.283295Z",
     "shell.execute_reply": "2025-04-01T08:58:18.282507Z"
    },
    "papermill": {
     "duration": 0.019528,
     "end_time": "2025-04-01T08:58:18.284828",
     "exception": false,
     "start_time": "2025-04-01T08:58:18.265300",
     "status": "completed"
    },
    "tags": []
   },
   "outputs": [],
   "source": [
    "# plotting the data\n",
    "def plot_hsi_step(X, step=1):\n",
    "    \"\"\"\n",
    "    Plot the hyperspectral image with a specified step between bands.\n",
    "\n",
    "    Args:\n",
    "      X (numpy.ndarray): The hyperspectral image data with shape [num_rows, num_cols, num_bands].\n",
    "      step (int): Step size between bands for plotting. Default is 1.\n",
    "    \"\"\"\n",
    "    end_band = X.shape[-1]\n",
    "\n",
    "    # reshaping the hyperspectal image data\n",
    "    # in our case X.shape = [145,145,200]\n",
    "    num_rows, num_cols, _ = X.shape\n",
    "    # num_cols = num_rows = 145\n",
    "    reshaped_data = np.moveaxis(X[:, :, 0:end_band:step], -1, 0)\n",
    "    #it's moving the last axis (bands) to the first position because imshow expects the bands to be the first dimension of the array\n",
    "\n",
    "    num_bands_to_plot = reshaped_data.shape[0]\n",
    "    fig, axs = plt.subplots(nrows=1, ncols=num_bands_to_plot, figsize=(15, 5))\n",
    "    for i in range(num_bands_to_plot):\n",
    "        axs[i].imshow(reshaped_data[i], cmap='gray')\n",
    "        axs[i].set_title(f'Band {i * step}')\n",
    "        axs[i].axis('off')\n",
    "    plt.tight_layout()\n",
    "    plt.show()"
   ]
  },
  {
   "cell_type": "code",
   "execution_count": 15,
   "id": "a2533c50",
   "metadata": {
    "execution": {
     "iopub.execute_input": "2025-04-01T08:58:18.308121Z",
     "iopub.status.busy": "2025-04-01T08:58:18.307838Z",
     "iopub.status.idle": "2025-04-01T08:58:19.126556Z",
     "shell.execute_reply": "2025-04-01T08:58:19.125670Z"
    },
    "papermill": {
     "duration": 0.832374,
     "end_time": "2025-04-01T08:58:19.128337",
     "exception": false,
     "start_time": "2025-04-01T08:58:18.295963",
     "status": "completed"
    },
    "tags": []
   },
   "outputs": [
    {
     "data": {
      "image/png": "[encoded data removed]",
      "text/plain": [
       "<Figure size 1500x500 with 11 Axes>"
      ]
     },
     "metadata": {},
     "output_type": "display_data"
    }
   ],
   "source": [
    "plot_hsi_step(X, 6)"
   ]
  },
  {
   "cell_type": "code",
   "execution_count": 16,
   "id": "12f34501",
   "metadata": {
    "execution": {
     "iopub.execute_input": "2025-04-01T08:58:19.153175Z",
     "iopub.status.busy": "2025-04-01T08:58:19.152907Z",
     "iopub.status.idle": "2025-04-01T08:58:19.159186Z",
     "shell.execute_reply": "2025-04-01T08:58:19.158437Z"
    },
    "papermill": {
     "duration": 0.020434,
     "end_time": "2025-04-01T08:58:19.160768",
     "exception": false,
     "start_time": "2025-04-01T08:58:19.140334",
     "status": "completed"
    },
    "tags": []
   },
   "outputs": [],
   "source": [
    "def sample_gt(gt, train_rate):\n",
    "    \"\"\"\n",
    "    Generate training and testing ground truth class maps based on a given full class map.\n",
    "\n",
    "    Args:\n",
    "    gt (numpy.ndarray): Full class map.\n",
    "    train_rate (float): Ratio of training dataset.\n",
    "\n",
    "    Returns:\n",
    "    train_gt (numpy.ndarray): Class map of training data.\n",
    "    test_gt (numpy.ndarray): Class map of testing data.\n",
    "    \"\"\"\n",
    "    # getting the indices of non-zero elements in the ground truth class map\n",
    "    indices = np.nonzero(gt)  # returns a tuple of arrays containing indices where gt is non-zero ([x1,x2,...],[y1,y2,...])\n",
    "    X = list(zip(*indices))  # converting the tuple of arrays into a list of tuples containing pixel locations X=[(x1,y1),(x2,y2),...] location of pixels (basically transpose)\n",
    "    y = gt[indices].ravel()  # getting the corresponding non-zero class labels and flatten them\n",
    "\n",
    "    # initialize arrays to store the class maps for training and testing data\n",
    "    train_gt = np.zeros_like(gt)\n",
    "    test_gt = np.zeros_like(gt)\n",
    "\n",
    "    if train_rate > 1:\n",
    "        train_rate = int(train_rate)\n",
    "\n",
    "    # splittin the data into training and testing sets\n",
    "    train_indices, test_indices = train_test_split(X, train_size=train_rate, stratify=y, random_state=100)\n",
    "    # the stratify=y parameter ensures that the splitting process preserves the proportion of samples for each class label as in the original data\n",
    "\n",
    "    # convert the list of tuples back into separate lists of x and y coordinates\n",
    "    train_indices = [t for t in zip(*train_indices)] # ([x1,x2,...],[y1,y2,...])\n",
    "    test_indices = [t for t in zip(*test_indices)]\n",
    "\n",
    "    # set the corresponding elements in the training and testing class maps to the non-zero class labels\n",
    "    train_gt[tuple(train_indices)] = gt[tuple(train_indices)]\n",
    "    test_gt[tuple(test_indices)] = gt[tuple(test_indices)]\n",
    "\n",
    "    return train_gt, test_gt\n"
   ]
  },
  {
   "cell_type": "code",
   "execution_count": 17,
   "id": "0d19a2f2",
   "metadata": {
    "execution": {
     "iopub.execute_input": "2025-04-01T08:58:19.185901Z",
     "iopub.status.busy": "2025-04-01T08:58:19.185588Z",
     "iopub.status.idle": "2025-04-01T08:58:19.188961Z",
     "shell.execute_reply": "2025-04-01T08:58:19.188227Z"
    },
    "papermill": {
     "duration": 0.017925,
     "end_time": "2025-04-01T08:58:19.190560",
     "exception": false,
     "start_time": "2025-04-01T08:58:19.172635",
     "status": "completed"
    },
    "tags": []
   },
   "outputs": [],
   "source": [
    "TRAIN_RATIO = 0.1\n",
    "VAL_RATIO = 0.1"
   ]
  },
  {
   "cell_type": "code",
   "execution_count": 18,
   "id": "7c448057",
   "metadata": {
    "execution": {
     "iopub.execute_input": "2025-04-01T08:58:19.214977Z",
     "iopub.status.busy": "2025-04-01T08:58:19.214683Z",
     "iopub.status.idle": "2025-04-01T08:58:19.281195Z",
     "shell.execute_reply": "2025-04-01T08:58:19.280243Z"
    },
    "papermill": {
     "duration": 0.081046,
     "end_time": "2025-04-01T08:58:19.283297",
     "exception": false,
     "start_time": "2025-04-01T08:58:19.202251",
     "status": "completed"
    },
    "tags": []
   },
   "outputs": [],
   "source": [
    "train_gt, test_gt = sample_gt(y,TRAIN_RATIO)\n",
    "val_gt,test_gt = sample_gt(test_gt,VAL_RATIO/(1-TRAIN_RATIO))"
   ]
  },
  {
   "cell_type": "code",
   "execution_count": 19,
   "id": "ed950644",
   "metadata": {
    "execution": {
     "iopub.execute_input": "2025-04-01T08:58:19.308854Z",
     "iopub.status.busy": "2025-04-01T08:58:19.308534Z",
     "iopub.status.idle": "2025-04-01T08:58:19.313783Z",
     "shell.execute_reply": "2025-04-01T08:58:19.313010Z"
    },
    "papermill": {
     "duration": 0.019336,
     "end_time": "2025-04-01T08:58:19.315287",
     "exception": false,
     "start_time": "2025-04-01T08:58:19.295951",
     "status": "completed"
    },
    "tags": []
   },
   "outputs": [
    {
     "data": {
      "text/plain": [
       "((166, 600), (166, 600), (166, 600))"
      ]
     },
     "execution_count": 19,
     "metadata": {},
     "output_type": "execute_result"
    }
   ],
   "source": [
    "train_gt.shape, test_gt.shape, val_gt.shape"
   ]
  },
  {
   "cell_type": "code",
   "execution_count": 20,
   "id": "d39e7e7b",
   "metadata": {
    "execution": {
     "iopub.execute_input": "2025-04-01T08:58:19.381084Z",
     "iopub.status.busy": "2025-04-01T08:58:19.380722Z",
     "iopub.status.idle": "2025-04-01T08:58:19.385876Z",
     "shell.execute_reply": "2025-04-01T08:58:19.385151Z"
    },
    "papermill": {
     "duration": 0.060333,
     "end_time": "2025-04-01T08:58:19.387357",
     "exception": false,
     "start_time": "2025-04-01T08:58:19.327024",
     "status": "completed"
    },
    "tags": []
   },
   "outputs": [],
   "source": [
    "def print_sample_report(train_gt, val_gt, test_gt, y):\n",
    "    \"\"\"\n",
    "    Prints a sample report showing the distribution of samples across different datasets and classes.\n",
    "\n",
    "    Args:\n",
    "        train_gt (numpy.ndarray): Ground truth classmap for training data.\n",
    "        val_gt (numpy.ndarray): Ground truth classmap for validation data.\n",
    "        test_gt (numpy.ndarray): Ground truth classmap for test data.\n",
    "        y (numpy.ndarray): Array containing class labels.\n",
    "    \"\"\"\n",
    "    sample_report = f\"{'class': ^10}{'train_num':^10}{'val_num': ^10}{'test_num': ^10}{'total': ^10}\\n\"\n",
    "    for i in np.unique(y):\n",
    "        if i == 0:\n",
    "            continue\n",
    "        sample_report += f\"{i: ^10}{(train_gt == i).sum(): ^10}{(val_gt == i).sum(): ^10}{(test_gt == i).sum(): ^10}{(y == i).sum(): ^10}\\n\"\n",
    "\n",
    "    sample_report += f\"{'total': ^10}{np.count_nonzero(train_gt): ^10}{np.count_nonzero(val_gt): ^10}{np.count_nonzero(test_gt): ^10}{np.count_nonzero(y): ^10}\"\n",
    "    print(sample_report)\n"
   ]
  },
  {
   "cell_type": "code",
   "execution_count": 21,
   "id": "4339643f",
   "metadata": {
    "execution": {
     "iopub.execute_input": "2025-04-01T08:58:19.412416Z",
     "iopub.status.busy": "2025-04-01T08:58:19.412125Z",
     "iopub.status.idle": "2025-04-01T08:58:19.419365Z",
     "shell.execute_reply": "2025-04-01T08:58:19.418504Z"
    },
    "papermill": {
     "duration": 0.021617,
     "end_time": "2025-04-01T08:58:19.420915",
     "exception": false,
     "start_time": "2025-04-01T08:58:19.399298",
     "status": "completed"
    },
    "tags": []
   },
   "outputs": [
    {
     "name": "stdout",
     "output_type": "stream",
     "text": [
      "  class   train_num  val_num   test_num   total   \n",
      "    1        403       404       3227      4034   \n",
      "    2        290       290       2323      2903   \n",
      "    3         48        48       383       479    \n",
      "    4        912       912       7299      9123   \n",
      "    5        1050      1050      8401     10501   \n",
      "    6        318       317       2539      3174   \n",
      "  total      3021      3021     24172     30214   \n"
     ]
    }
   ],
   "source": [
    "print_sample_report(train_gt, val_gt, test_gt, y)"
   ]
  },
  {
   "cell_type": "code",
   "execution_count": 22,
   "id": "80aafb14",
   "metadata": {
    "execution": {
     "iopub.execute_input": "2025-04-01T08:58:19.446159Z",
     "iopub.status.busy": "2025-04-01T08:58:19.445570Z",
     "iopub.status.idle": "2025-04-01T08:58:19.449748Z",
     "shell.execute_reply": "2025-04-01T08:58:19.449048Z"
    },
    "papermill": {
     "duration": 0.018476,
     "end_time": "2025-04-01T08:58:19.451331",
     "exception": false,
     "start_time": "2025-04-01T08:58:19.432855",
     "status": "completed"
    },
    "tags": []
   },
   "outputs": [],
   "source": [
    "def display_samples(train_gt, val_gt, test_gt):\n",
    "    \"\"\"\n",
    "    Display samples of ground truth classmaps for training, validation, and test data.\n",
    "\n",
    "    Args:\n",
    "        train_gt (ndarray): Ground truth classmap for training data.\n",
    "        val_gt (ndarray): Ground truth classmap for validation data.\n",
    "        test_gt (ndarray): Ground truth classmap for test data.\n",
    "    \"\"\"\n",
    "    spectral.imshow(classes=train_gt, title='train_gt')\n",
    "    spectral.imshow(classes=val_gt, title='val_gt')\n",
    "    spectral.imshow(classes=test_gt, title='test_gt')\n"
   ]
  },
  {
   "cell_type": "code",
   "execution_count": 23,
   "id": "50c1c305",
   "metadata": {
    "execution": {
     "iopub.execute_input": "2025-04-01T08:58:19.476760Z",
     "iopub.status.busy": "2025-04-01T08:58:19.476204Z",
     "iopub.status.idle": "2025-04-01T08:58:20.182988Z",
     "shell.execute_reply": "2025-04-01T08:58:20.182083Z"
    },
    "papermill": {
     "duration": 0.721761,
     "end_time": "2025-04-01T08:58:20.185032",
     "exception": false,
     "start_time": "2025-04-01T08:58:19.463271",
     "status": "completed"
    },
    "tags": []
   },
   "outputs": [
    {
     "name": "stderr",
     "output_type": "stream",
     "text": [
      "/opt/conda/lib/python3.10/site-packages/spectral/graphics/spypylab.py:796: UserWarning: Failed to create RectangleSelector object. Interactive pixel class labeling will be unavailable.\n",
      "  warnings.warn(msg)\n"
     ]
    },
    {
     "data": {
      "image/png": "[encoded data removed]",
      "text/plain": [
       "<Figure size 640x480 with 1 Axes>"
      ]
     },
     "metadata": {},
     "output_type": "display_data"
    },
    {
     "data": {
      "image/png": "[encoded data removed]",
      "text/plain": [
       "<Figure size 640x480 with 1 Axes>"
      ]
     },
     "metadata": {},
     "output_type": "display_data"
    },
    {
     "data": {
      "image/png": "[encoded data removed]",
      "text/plain": [
       "<Figure size 640x480 with 1 Axes>"
      ]
     },
     "metadata": {},
     "output_type": "display_data"
    }
   ],
   "source": [
    "display_samples(train_gt, val_gt, test_gt)"
   ]
  },
  {
   "cell_type": "code",
   "execution_count": 24,
   "id": "abeb0451",
   "metadata": {
    "execution": {
     "iopub.execute_input": "2025-04-01T08:58:20.214354Z",
     "iopub.status.busy": "2025-04-01T08:58:20.213583Z",
     "iopub.status.idle": "2025-04-01T08:58:20.223501Z",
     "shell.execute_reply": "2025-04-01T08:58:20.222679Z"
    },
    "papermill": {
     "duration": 0.026185,
     "end_time": "2025-04-01T08:58:20.225217",
     "exception": false,
     "start_time": "2025-04-01T08:58:20.199032",
     "status": "completed"
    },
    "tags": []
   },
   "outputs": [],
   "source": [
    "class PatchSet(Dataset):\n",
    "    \"\"\"Generate 3D patches from a hyperspectral dataset.\"\"\"\n",
    "\n",
    "    def __init__(self, data, gt, patch_size, is_pred=False):\n",
    "        \"\"\"\n",
    "        Initialize the PatchSet dataset.\n",
    "\n",
    "        Args:\n",
    "            data (ndarray): 3D hyperspectral image.\n",
    "            gt (ndarray): 2D array of labels.\n",
    "            patch_size (int): Size of the 3D patch.\n",
    "            is_pred (bool): Whether to create data without labels for prediction. Default is False.\n",
    "        \"\"\"\n",
    "        super(PatchSet, self).__init__()\n",
    "        self.is_pred = is_pred\n",
    "        self.patch_size = patch_size\n",
    "        p = self.patch_size // 2\n",
    "\n",
    "        # Padding the data and ground truth arrays\n",
    "        self.data = np.pad(data, pad_width=((p, p), (p, p), (0, 0)), mode='constant', constant_values=0)\n",
    "        \"\"\"\n",
    "        pad_width: A tuple specifying the padding width for each dimension. In this case, (p, p) is used for both the first and second\n",
    "                   dimensions (rows and columns), and (0, 0) is used for the third dimension (channels). This means that p pixels will be added to\n",
    "                   the beginning and end of each row and column, and no padding will be added to the channels dimension.\n",
    "\n",
    "        mode='constant': Specifies the padding mode. Here, it's set to 'constant', which means that values will be padded with a constant value.\n",
    "\n",
    "        constant_values=0: Specifying the constant value that will be used for padding.\n",
    "        \"\"\"\n",
    "        if is_pred:\n",
    "            gt = np.ones_like(gt)\n",
    "        self.label = np.pad(gt, pad_width=(p, p), mode='constant', constant_values=0)\n",
    "        \"\"\"\n",
    "        pad_width: A tuple specifying the padding width for each dimension. Here, (p, p) is used, indicating that p pixels will be added to\n",
    "                   the beginning and end of each row and column.\n",
    "        \"\"\"\n",
    "\n",
    "        # Get indices of non-zero values in ground truth\n",
    "        x_pos, y_pos = np.nonzero(gt)\n",
    "        x_pos, y_pos = x_pos + p, y_pos + p  # adjust indices after padding\n",
    "        self.indices = np.array([(x, y) for x, y in zip(x_pos, y_pos)])\n",
    "\n",
    "        # Randomly shuffle indices if not predicting\n",
    "        if not is_pred:\n",
    "            np.random.shuffle(self.indices)\n",
    "\n",
    "    def __len__(self):\n",
    "        \"\"\"Return the number of samples in the dataset.\"\"\"\n",
    "        return len(self.indices)\n",
    "\n",
    "    def __getitem__(self, i):\n",
    "        \"\"\"Get a sample from the dataset.\"\"\"\n",
    "        x, y = self.indices[i]\n",
    "        x1, y1 = x - self.patch_size // 2, y - self.patch_size // 2\n",
    "        x2, y2 = x1 + self.patch_size, y1 + self.patch_size\n",
    "\n",
    "        # Extract the patch and label from the data and ground truth arrays\n",
    "        data = self.data[x1:x2, y1:y2]\n",
    "        label = self.label[x, y]\n",
    "\n",
    "        # Transpose the data to match PyTorch format\n",
    "        data = np.asarray(data, dtype='float32').transpose((2, 0, 1))\n",
    "        label = np.asarray(label, dtype='int64')\n",
    "\n",
    "        # Convert data and label to PyTorch tensors\n",
    "        data = torch.from_numpy(data)\n",
    "        label = torch.from_numpy(label)\n",
    "\n",
    "        # Return data and label (or just data if predicting)\n",
    "        if self.is_pred:\n",
    "            return data\n",
    "        else:\n",
    "            return data, label\n"
   ]
  },
  {
   "cell_type": "code",
   "execution_count": 25,
   "id": "fd909d2c",
   "metadata": {
    "execution": {
     "iopub.execute_input": "2025-04-01T08:58:20.253314Z",
     "iopub.status.busy": "2025-04-01T08:58:20.252661Z",
     "iopub.status.idle": "2025-04-01T08:58:20.256415Z",
     "shell.execute_reply": "2025-04-01T08:58:20.255702Z"
    },
    "papermill": {
     "duration": 0.020236,
     "end_time": "2025-04-01T08:58:20.258554",
     "exception": false,
     "start_time": "2025-04-01T08:58:20.238318",
     "status": "completed"
    },
    "tags": []
   },
   "outputs": [],
   "source": [
    "PATCH_SIZE = 8\n",
    "BATCH_SIZE = 64"
   ]
  },
  {
   "cell_type": "code",
   "execution_count": 26,
   "id": "fd2e6daa",
   "metadata": {
    "execution": {
     "iopub.execute_input": "2025-04-01T08:58:20.286175Z",
     "iopub.status.busy": "2025-04-01T08:58:20.285927Z",
     "iopub.status.idle": "2025-04-01T08:58:20.435441Z",
     "shell.execute_reply": "2025-04-01T08:58:20.434721Z"
    },
    "papermill": {
     "duration": 0.16527,
     "end_time": "2025-04-01T08:58:20.437367",
     "exception": false,
     "start_time": "2025-04-01T08:58:20.272097",
     "status": "completed"
    },
    "tags": []
   },
   "outputs": [],
   "source": [
    "train_data = PatchSet(X, train_gt, PATCH_SIZE)\n",
    "val_data = PatchSet(X, val_gt, PATCH_SIZE)\n",
    "test_data = PatchSet(X, test_gt, PATCH_SIZE)\n",
    "all_data = PatchSet(X, y, PATCH_SIZE,is_pred = True)\n",
    "train_loader = DataLoader(train_data,BATCH_SIZE,shuffle= True)\n",
    "val_loader = DataLoader(val_data,BATCH_SIZE,shuffle= True)\n",
    "test_loader = DataLoader(test_data,114,shuffle= False)\n",
    "all_loader = DataLoader(all_data,BATCH_SIZE,shuffle= False)"
   ]
  },
  {
   "cell_type": "code",
   "execution_count": 27,
   "id": "95e963fe",
   "metadata": {
    "execution": {
     "iopub.execute_input": "2025-04-01T08:58:20.466969Z",
     "iopub.status.busy": "2025-04-01T08:58:20.466201Z",
     "iopub.status.idle": "2025-04-01T08:58:20.471474Z",
     "shell.execute_reply": "2025-04-01T08:58:20.470654Z"
    },
    "papermill": {
     "duration": 0.021816,
     "end_time": "2025-04-01T08:58:20.473079",
     "exception": false,
     "start_time": "2025-04-01T08:58:20.451263",
     "status": "completed"
    },
    "tags": []
   },
   "outputs": [
    {
     "data": {
      "text/plain": [
       "99600"
      ]
     },
     "execution_count": 27,
     "metadata": {},
     "output_type": "execute_result"
    }
   ],
   "source": [
    "len(all_data)"
   ]
  },
  {
   "cell_type": "code",
   "execution_count": 28,
   "id": "88b752cd",
   "metadata": {
    "execution": {
     "iopub.execute_input": "2025-04-01T08:58:20.500839Z",
     "iopub.status.busy": "2025-04-01T08:58:20.500240Z",
     "iopub.status.idle": "2025-04-01T08:58:20.511487Z",
     "shell.execute_reply": "2025-04-01T08:58:20.510757Z"
    },
    "papermill": {
     "duration": 0.026826,
     "end_time": "2025-04-01T08:58:20.513047",
     "exception": false,
     "start_time": "2025-04-01T08:58:20.486221",
     "status": "completed"
    },
    "tags": []
   },
   "outputs": [
    {
     "data": {
      "text/plain": [
       "torch.Size([63, 8, 8])"
      ]
     },
     "execution_count": 28,
     "metadata": {},
     "output_type": "execute_result"
    }
   ],
   "source": [
    "all_data[0].shape"
   ]
  },
  {
   "cell_type": "code",
   "execution_count": 29,
   "id": "758dbfbc",
   "metadata": {
    "execution": {
     "iopub.execute_input": "2025-04-01T08:58:20.540801Z",
     "iopub.status.busy": "2025-04-01T08:58:20.540520Z",
     "iopub.status.idle": "2025-04-01T08:58:20.545464Z",
     "shell.execute_reply": "2025-04-01T08:58:20.544653Z"
    },
    "papermill": {
     "duration": 0.020756,
     "end_time": "2025-04-01T08:58:20.547013",
     "exception": false,
     "start_time": "2025-04-01T08:58:20.526257",
     "status": "completed"
    },
    "tags": []
   },
   "outputs": [
    {
     "data": {
      "text/plain": [
       "24172"
      ]
     },
     "execution_count": 29,
     "metadata": {},
     "output_type": "execute_result"
    }
   ],
   "source": [
    "len(test_data)"
   ]
  },
  {
   "cell_type": "code",
   "execution_count": 30,
   "id": "e3b7bbc7",
   "metadata": {
    "execution": {
     "iopub.execute_input": "2025-04-01T08:58:20.574751Z",
     "iopub.status.busy": "2025-04-01T08:58:20.574100Z",
     "iopub.status.idle": "2025-04-01T08:58:20.618480Z",
     "shell.execute_reply": "2025-04-01T08:58:20.617518Z"
    },
    "papermill": {
     "duration": 0.060218,
     "end_time": "2025-04-01T08:58:20.620254",
     "exception": false,
     "start_time": "2025-04-01T08:58:20.560036",
     "status": "completed"
    },
    "tags": []
   },
   "outputs": [
    {
     "name": "stdout",
     "output_type": "stream",
     "text": [
      "<class 'torch.Tensor'>\n"
     ]
    }
   ],
   "source": [
    "for batch in all_loader:\n",
    "    print(type(batch))  # Should be tuple if (data, labels), or tensor if only data\n",
    "    break"
   ]
  },
  {
   "cell_type": "code",
   "execution_count": 31,
   "id": "6599d771",
   "metadata": {
    "execution": {
     "iopub.execute_input": "2025-04-01T08:58:20.648977Z",
     "iopub.status.busy": "2025-04-01T08:58:20.648278Z",
     "iopub.status.idle": "2025-04-01T08:58:20.654060Z",
     "shell.execute_reply": "2025-04-01T08:58:20.653236Z"
    },
    "papermill": {
     "duration": 0.021839,
     "end_time": "2025-04-01T08:58:20.655691",
     "exception": false,
     "start_time": "2025-04-01T08:58:20.633852",
     "status": "completed"
    },
    "tags": []
   },
   "outputs": [
    {
     "name": "stdout",
     "output_type": "stream",
     "text": [
      "torch.Size([64, 63, 8, 8])\n"
     ]
    }
   ],
   "source": [
    "for batch in all_loader:\n",
    "    print(batch.shape)\n",
    "    break"
   ]
  },
  {
   "cell_type": "code",
   "execution_count": 32,
   "id": "1fdc44e8",
   "metadata": {
    "execution": {
     "iopub.execute_input": "2025-04-01T08:58:20.683001Z",
     "iopub.status.busy": "2025-04-01T08:58:20.682710Z",
     "iopub.status.idle": "2025-04-01T08:58:20.687531Z",
     "shell.execute_reply": "2025-04-01T08:58:20.686816Z"
    },
    "papermill": {
     "duration": 0.020238,
     "end_time": "2025-04-01T08:58:20.689085",
     "exception": false,
     "start_time": "2025-04-01T08:58:20.668847",
     "status": "completed"
    },
    "tags": []
   },
   "outputs": [
    {
     "data": {
      "text/plain": [
       "3021"
      ]
     },
     "execution_count": 32,
     "metadata": {},
     "output_type": "execute_result"
    }
   ],
   "source": [
    "len(val_data)"
   ]
  },
  {
   "cell_type": "code",
   "execution_count": 33,
   "id": "dd9ae993",
   "metadata": {
    "execution": {
     "iopub.execute_input": "2025-04-01T08:58:20.717316Z",
     "iopub.status.busy": "2025-04-01T08:58:20.717077Z",
     "iopub.status.idle": "2025-04-01T08:58:20.727064Z",
     "shell.execute_reply": "2025-04-01T08:58:20.726256Z"
    },
    "papermill": {
     "duration": 0.025932,
     "end_time": "2025-04-01T08:58:20.728630",
     "exception": false,
     "start_time": "2025-04-01T08:58:20.702698",
     "status": "completed"
    },
    "tags": []
   },
   "outputs": [
    {
     "data": {
      "text/plain": [
       "(torch.Size([63, 8, 8]), tensor(5))"
      ]
     },
     "execution_count": 33,
     "metadata": {},
     "output_type": "execute_result"
    }
   ],
   "source": [
    "d, g = train_data.__getitem__(0)\n",
    "d.shape, g"
   ]
  },
  {
   "cell_type": "code",
   "execution_count": 34,
   "id": "2b1927e9",
   "metadata": {
    "execution": {
     "iopub.execute_input": "2025-04-01T08:58:20.756472Z",
     "iopub.status.busy": "2025-04-01T08:58:20.756253Z",
     "iopub.status.idle": "2025-04-01T08:58:20.759674Z",
     "shell.execute_reply": "2025-04-01T08:58:20.758922Z"
    },
    "papermill": {
     "duration": 0.019176,
     "end_time": "2025-04-01T08:58:20.761303",
     "exception": false,
     "start_time": "2025-04-01T08:58:20.742127",
     "status": "completed"
    },
    "tags": []
   },
   "outputs": [],
   "source": [
    "BAND = 64\n",
    "CLASSES_NUM = 6"
   ]
  },
  {
   "cell_type": "code",
   "execution_count": 35,
   "id": "0ad81dd2",
   "metadata": {
    "execution": {
     "iopub.execute_input": "2025-04-01T08:58:20.789580Z",
     "iopub.status.busy": "2025-04-01T08:58:20.788903Z",
     "iopub.status.idle": "2025-04-01T08:58:20.793577Z",
     "shell.execute_reply": "2025-04-01T08:58:20.792867Z"
    },
    "papermill": {
     "duration": 0.020601,
     "end_time": "2025-04-01T08:58:20.795276",
     "exception": false,
     "start_time": "2025-04-01T08:58:20.774675",
     "status": "completed"
    },
    "tags": []
   },
   "outputs": [
    {
     "name": "stdout",
     "output_type": "stream",
     "text": [
      "-----Importing Setting Parameters-----\n",
      "11\n"
     ]
    }
   ],
   "source": [
    "print('-----Importing Setting Parameters-----')\n",
    "PATCH_LENGTH = 5\n",
    "lr, num_epochs, batch_size = 0.001, 200, 32\n",
    "\n",
    "img_rows = 2 * PATCH_LENGTH + 1\n",
    "print(img_rows)\n",
    "img_cols = 2 * PATCH_LENGTH + 1\n"
   ]
  },
  {
   "cell_type": "code",
   "execution_count": 36,
   "id": "ed8bda4a",
   "metadata": {
    "execution": {
     "iopub.execute_input": "2025-04-01T08:58:20.824567Z",
     "iopub.status.busy": "2025-04-01T08:58:20.823994Z",
     "iopub.status.idle": "2025-04-01T08:58:20.827714Z",
     "shell.execute_reply": "2025-04-01T08:58:20.826987Z"
    },
    "papermill": {
     "duration": 0.020349,
     "end_time": "2025-04-01T08:58:20.829270",
     "exception": false,
     "start_time": "2025-04-01T08:58:20.808921",
     "status": "completed"
    },
    "tags": []
   },
   "outputs": [],
   "source": [
    "def name_with_msg(instance: nn.Module, msg: str) -> str:\n",
    "    return f\"[{instance.__class__.__name__}] {msg}\""
   ]
  },
  {
   "cell_type": "code",
   "execution_count": 37,
   "id": "5ab1b3e3",
   "metadata": {
    "execution": {
     "iopub.execute_input": "2025-04-01T08:58:20.858618Z",
     "iopub.status.busy": "2025-04-01T08:58:20.858319Z",
     "iopub.status.idle": "2025-04-01T08:58:20.876578Z",
     "shell.execute_reply": "2025-04-01T08:58:20.875976Z"
    },
    "papermill": {
     "duration": 0.035396,
     "end_time": "2025-04-01T08:58:20.878257",
     "exception": false,
     "start_time": "2025-04-01T08:58:20.842861",
     "status": "completed"
    },
    "tags": []
   },
   "outputs": [],
   "source": [
    "class CoAtNetRelativeAttention(nn.Module):\n",
    "    \"\"\"\n",
    "    CoAtNetRelativeAttention implements multi-head self-attention with relative positional biases.\n",
    "    \n",
    "    Args:\n",
    "        in_dim (int): Each token is represented as a vector of size `in_dim`.\n",
    "        pre_height (int): Predefined input height.\n",
    "        pre_width (int): Predefined input width.\n",
    "        heads (int, optional): Number of attention heads.\n",
    "        kv_dim (int, optional): Dimension of key and value projections (default: same as `in_dim`).\n",
    "        head_dim (int, optional): Dimension of each attention head. \n",
    "        proj_dim (int, optional): Projection dimension.\n",
    "        out_dim (int, optional): Output feature dimension (default: same as `in_dim`).\n",
    "        attention_dropout (float, optional): Dropout rate for attention weights (default: 0.0).\n",
    "        ff_dropout (float, optional): Dropout rate for the output projection (default: 0.0).\n",
    "        use_bias (bool, optional): Whether to use bias in linear projections (default: False).\n",
    "        dtype (torch.dtype, optional): Data type for numerical precision (default: torch.float32).\n",
    "    \"\"\"\n",
    "    def __init__(\n",
    "        self, \n",
    "        in_dim: int,\n",
    "        pre_height: int,\n",
    "        pre_width: int,\n",
    "        *,\n",
    "        heads: int = None, \n",
    "        kv_dim: int = None, \n",
    "        head_dim: int = None, \n",
    "        proj_dim: int = None,\n",
    "        out_dim: int = None,\n",
    "        attention_dropout: float = 0.0, \n",
    "        ff_dropout: float = 0.0, \n",
    "        use_bias: bool = False,\n",
    "        dtype=torch.float32, \n",
    "        **rest\n",
    "    ):\n",
    "        super().__init__()\n",
    "\n",
    "        # Determine embedding dimension for projections\n",
    "        dim = proj_dim if proj_dim is not None else in_dim\n",
    "        out_dim = out_dim if out_dim is not None else in_dim\n",
    "\n",
    "        # Ensure either `heads` or `head_dim` is provided\n",
    "        assert (\n",
    "            heads is not None or head_dim is not None\n",
    "        ), f\"[{self.__class__.__name__}] Either `heads` or `head_dim` must be specified.\"\n",
    "\n",
    "        # Derive the number of heads and head dimension if one is missing\n",
    "        self.heads = heads if heads is not None else dim // head_dim\n",
    "        head_dim = head_dim if head_dim is not None else dim // self.heads\n",
    "\n",
    "        # Ensure that the total embedding size matches the product of `heads` and `head_dim`\n",
    "        assert (\n",
    "            head_dim * self.heads == dim\n",
    "        ), f\"[{self.__class__.__name__}] Head dimension times the number of heads must be equal to embedding dimension (`in_dim` or `proj_dim`)\"\n",
    "        \n",
    "        # Define linear layers for Query (Q), Key (K), and Value (V)\n",
    "        self.Q = nn.Linear(in_dim, dim, bias=use_bias)\n",
    "        self.K = nn.Linear(kv_dim if kv_dim is not None else in_dim, dim, bias=use_bias)\n",
    "        self.V = nn.Linear(kv_dim if kv_dim is not None else in_dim, dim, bias=use_bias)\n",
    "        \n",
    "        # Output projection layer\n",
    "        self.out_linear = nn.Linear(dim, out_dim)\n",
    "\n",
    "        # Dropout layers for attention weights and final output\n",
    "        self.attention_dropout = nn.Dropout2d(attention_dropout)\n",
    "        self.out_dropout = nn.Dropout(ff_dropout)\n",
    "\n",
    "        # Scaling factor for dot-product attention\n",
    "        self.scale = head_dim ** (-0.5)\n",
    "\n",
    "        # Mask value for masked attention (very large negative number to nullify masked entries)\n",
    "        self.mask_value = -torch.finfo(dtype).max  # Pytorch default float type\n",
    "\n",
    "        # Relative positional encoding parameters\n",
    "        self.pre_height = pre_height\n",
    "        self.pre_width = pre_width\n",
    "\n",
    "        # Define learnable relative bias parameter\n",
    "        self.relative_bias = nn.Parameter(\n",
    "            torch.randn(self.heads, int((2*pre_height - 1)*(2*pre_width - 1))),\n",
    "            requires_grad=True\n",
    "        )\n",
    "        \n",
    "        # Compute relative indices for position encoding\n",
    "        self.register_buffer(\"relative_indices\", self._get_relative_indices(pre_height, pre_width))\n",
    "\n",
    "    def forward(self, x, attention_mask=None, verbose=False):\n",
    "        \"\"\"\n",
    "        Forward pass for multi-head attention with relative positional encoding.\n",
    "\n",
    "        Args:\n",
    "            x (torch.Tensor or tuple of torch.Tensor): \n",
    "                - Shape: (batch_size, channels, height, width) for spatial inputs\n",
    "                - or (batch_size, seq_len, in_dim) for sequence inputs\n",
    "            attention_mask (torch.Tensor, optional): Attention mask for sequence inputs\n",
    "            verbose (bool, optional): If True, print intermediate tensor shapes\n",
    "\n",
    "        Returns:\n",
    "            torch.Tensor: Output of the multi-head attention module\n",
    "        \"\"\"\n",
    "        h = self.heads  # Number of attention heads\n",
    "        \n",
    "        # Check if input is spatial (4D) or sequential (3D)\n",
    "        is_spatial = len(x.shape) == 4\n",
    "\n",
    "        if is_spatial:\n",
    "            b, c, H, W = x.shape\n",
    "            # Reshape input for attention mechanism\n",
    "            x = rearrange(x, \"b c h w -> b (h w) c\")\n",
    "        else:\n",
    "            b, seq_len, c = x.shape\n",
    "            H, W = seq_len, 1\n",
    "\n",
    "        if verbose:\n",
    "            print(f\"Input shape after initial processing: {x.shape}\")\n",
    "\n",
    "        # Compute Query, Key, and Value projections\n",
    "        q, k, v = map(lambda proj: proj(x), (self.Q, self.K, self.V))\n",
    "\n",
    "        if verbose:\n",
    "            print(f\"Q shape: {q.shape}, K shape: {k.shape}, V shape: {v.shape}\")\n",
    "\n",
    "        # Reshape projections to (batch_size, heads, seq_len, head_dim)\n",
    "        q, k, v = map(lambda t: rearrange(t, \"b n (h d) -> b h n d\", h=h), (q, k, v))\n",
    "\n",
    "        if verbose:\n",
    "            print(f\"Q reshaped: {q.shape}, K reshaped: {k.shape}, V reshaped: {v.shape}\")\n",
    "\n",
    "        # Scale the key vectors\n",
    "        k = k * self.scale\n",
    "\n",
    "        # Determine relative biases based on input size\n",
    "        if H == self.pre_height and W == self.pre_width:\n",
    "            relative_indices = self.relative_indices\n",
    "            relative_bias = self.relative_bias\n",
    "        else:\n",
    "            relative_indices = self._get_relative_indices(H, W)\n",
    "            relative_bias = self._interpolate_relative_bias(H, W)\n",
    "\n",
    "        # Expand indices and biases to match batch and head dimensions\n",
    "        relative_indices = repeat(relative_indices, \"n m -> b h n m\", b=b, h=h)\n",
    "        relative_bias = repeat(relative_bias, \"h r -> b h n r\", b=b, n=H*W)\n",
    "\n",
    "        # Gather and apply relative biases\n",
    "        relative_biases = relative_bias.gather(dim=-1, index=relative_indices)\n",
    "\n",
    "        # Compute attention scores\n",
    "        attention = einsum(\"b h n d, b h m d -> b h n m\", q, k) + relative_biases\n",
    "\n",
    "        # Apply attention mask if provided\n",
    "        if attention_mask is not None:\n",
    "            attention_mask = repeat(attention_mask, \"b 1 n m -> b h n m\", h=h)\n",
    "            attention.masked_fill_(attention_mask, self.mask_value)\n",
    "\n",
    "        # Apply softmax to get attention weights\n",
    "        attention = attention.softmax(dim=-1)\n",
    "        \n",
    "        # Apply dropout to attention weights\n",
    "        attention = self.attention_dropout(attention)\n",
    "        \n",
    "        # Compute weighted sum of value vectors\n",
    "        out = einsum(\"b h n m, b h m d -> b h n d\", attention, v)\n",
    "        \n",
    "        # Reshape output to (batch_size, seq_len, heads * head_dim)\n",
    "        out = rearrange(out, \"b h n d -> b n (h d)\")\n",
    "        \n",
    "        # Apply final linear projection\n",
    "        out = self.out_linear(out)\n",
    "\n",
    "        # Apply output dropout\n",
    "        out = self.out_dropout(out)\n",
    "\n",
    "        # Reshape back to spatial if input was spatial\n",
    "        if is_spatial:\n",
    "            out = rearrange(out, \"b (h w) c -> b c h w\", h=H, w=W)\n",
    "\n",
    "        return out\n",
    "\n",
    "    def _get_relative_indices(self, height: int, width: int) -> torch.Tensor:\n",
    "        \"\"\"\n",
    "        Compute relative position indices for attention biases.\n",
    "        \n",
    "        Args:\n",
    "            height (int): Height of the input feature map.\n",
    "            width (int): Width of the input feature map.\n",
    "        \n",
    "        Returns:\n",
    "            torch.Tensor: Tensor of relative indices.\n",
    "        \"\"\"\n",
    "        height, width = int(height), int(width)\n",
    "        ticks_y, ticks_x = torch.arange(height), torch.arange(width)\n",
    "        grid_y, grid_x = torch.meshgrid(ticks_y, ticks_x)\n",
    "        out = torch.empty(height*width, height*width).fill_(float(\"nan\"))\n",
    "\n",
    "        for idx_y in range(height):\n",
    "            for idx_x in range(width):\n",
    "                rel_indices_y = grid_y - idx_y + height\n",
    "                rel_indices_x = grid_x - idx_x + width\n",
    "                flatten_indices = (rel_indices_y*width + rel_indices_x).flatten()\n",
    "                out[idx_y*width + idx_x] = flatten_indices\n",
    "\n",
    "        # Ensure there are no NaN or negative values in indices\n",
    "        assert not out.isnan().any(), \"`relative_indices` contain NaN values\"\n",
    "        assert (out >= 0).all(), \"`relative_indices` contain negative indices\"\n",
    "        \n",
    "        return out.to(torch.long)\n",
    "\n",
    "    def _interpolate_relative_bias(self, height: int, width: int) -> torch.Tensor:\n",
    "        \"\"\"\n",
    "        Interpolate the relative bias for varying input sizes.\n",
    "        \n",
    "        Args:\n",
    "            height (int): Target height.\n",
    "            width (int): Target width.\n",
    "        \n",
    "        Returns:\n",
    "            torch.Tensor: Interpolated relative bias.\n",
    "        \"\"\"\n",
    "        out = rearrange(self.relative_bias, \"h (n m) -> 1 h n m\", n=(2*self.pre_height - 1))\n",
    "        out = nn.functional.interpolate(out, size=(2*height - 1, 2*width - 1), mode=\"bilinear\", align_corners=True)\n",
    "        return rearrange(out, \"1 h n m -> h (n m)\")"
   ]
  },
  {
   "cell_type": "code",
   "execution_count": 38,
   "id": "d27b1fda",
   "metadata": {
    "execution": {
     "iopub.execute_input": "2025-04-01T08:58:20.906870Z",
     "iopub.status.busy": "2025-04-01T08:58:20.906581Z",
     "iopub.status.idle": "2025-04-01T08:58:20.924941Z",
     "shell.execute_reply": "2025-04-01T08:58:20.924087Z"
    },
    "papermill": {
     "duration": 0.034435,
     "end_time": "2025-04-01T08:58:20.926507",
     "exception": false,
     "start_time": "2025-04-01T08:58:20.892072",
     "status": "completed"
    },
    "tags": []
   },
   "outputs": [],
   "source": [
    "class AttentionGCN(nn.Module):\n",
    "    def __init__(self, pre_height, pre_width, in_dim, proj_dim, head_dim, n_classes, attention_dropout, ff_dropout, verbose=False):\n",
    "        super(AttentionGCN, self).__init__()\n",
    "        \n",
    "        # Input: (batch_size, in_channels=17, 11, 11)\n",
    "        self.conv1 = nn.Conv2d(17, pre_height, kernel_size=1)  # Output: (batch_size, 8, 11, 11)\n",
    "        self.bn1 = nn.BatchNorm2d(pre_height, eps=1e-3)\n",
    "        \n",
    "        # CoAtNetRelativeAttention layer replacing the placeholder\n",
    "        self.attention = CoAtNetRelativeAttention(\n",
    "            pre_height=pre_height,\n",
    "            pre_width=pre_width,\n",
    "            in_dim=in_dim,\n",
    "            proj_dim=proj_dim,\n",
    "            head_dim=head_dim,\n",
    "            attention_dropout=attention_dropout,\n",
    "            ff_dropout=ff_dropout,\n",
    "            \n",
    "        )  # Expected output: (batch_size, 11, 11, 11)\n",
    "        \n",
    "        \n",
    "        # Graph reasoning module 1\n",
    "        self.squeezer = nn.Conv1d(pre_height**2, 16, kernel_size=1)  # Output: (batch_size, 16, 11)\n",
    "        self.gconv = nn.Conv1d(16, pre_height**2, kernel_size=1)  # Output: (batch_size, 121, 11)\n",
    "        self.unsqueezer = nn.Conv1d(pre_height**2, pre_height**2, kernel_size=1)  # Output: (batch_size, 121, 11)\n",
    "        \n",
    "        self.conv2 = nn.Conv2d(4*pre_height, 4*pre_height, kernel_size=1)  # Output: (batch_size, 32, 11, 11)\n",
    "        self.bn2 = nn.BatchNorm2d(4*pre_height, eps=1e-3)\n",
    "        \n",
    "        # Graph reasoning module 2\n",
    "        self.squeezer2 = nn.Conv1d(pre_height**2, pre_height**2, kernel_size=1)  # Output: (batch_size, 64, 121)\n",
    "        self.gconv2 = nn.Conv1d(4*pre_height, 4*pre_height, kernel_size=1)  # Output: (batch_size, 44, 121)\n",
    "        self.unsqueezer2 = nn.Conv1d(4*pre_height, pre_height**2, kernel_size=1)  # Output: (batch_size, 121, 121)\n",
    "        \n",
    "        # Additional convolutions\n",
    "        self.conv3 = nn.Conv2d(136, 32, kernel_size=1)  # Output: (batch_size, 32, 11, 11)\n",
    "        self.bn3 = nn.BatchNorm2d(32, eps=1e-3)\n",
    "        self.conv4 = nn.Conv2d(32, 64, kernel_size=3, padding=1)  # Output: (batch_size, 64, 11, 11)\n",
    "        self.bn4 = nn.BatchNorm2d(64, eps=1e-3)\n",
    "        self.conv5 = nn.Conv2d(64, 128, kernel_size=1)  # Output: (batch_size, 128, 11, 11)\n",
    "        self.bn5 = nn.BatchNorm2d(128, eps=1e-3)\n",
    "        \n",
    "        # Fully connected layers\n",
    "        self.fc1 = nn.Linear(128 * pre_height * pre_height, 100)\n",
    "        self.fc2 = nn.Linear(100, 20)\n",
    "        self.fc3 = nn.Linear(20, n_classes)\n",
    "\n",
    "    def forward(self, x, verbose = False):\n",
    "        \n",
    "        batch_size = x.shape[0]\n",
    "        if verbose:\n",
    "            print(\"Input shape:\", x.shape)  # (batch_size, 17, 11, 11)\n",
    "        \n",
    "        x = F.relu(self.conv1(x))\n",
    "        if verbose:\n",
    "            print(\"After conv1:\", x.shape)  # (batch_size, 11, 11, 11)\n",
    "            plot_batch_hist(x, \"Before BN1\")\n",
    "\n",
    "        x = self.bn1(x)\n",
    "        if verbose:\n",
    "            print(\"After bn1:\", x.shape)  # (batch_size, 8, 11, 11)\n",
    "            plot_batch_hist(x, \"After BN1\")\n",
    "        \n",
    "        attention_out = self.attention(x)\n",
    "        if verbose:\n",
    "            print(\"After attention:\", attention_out.shape)  # (batch_size, 11, 11, 11)\n",
    "        \n",
    "        # Graph reasoning module 1\n",
    "        graph_t = x.view(batch_size,8, 8*8).permute(0,2,1)\n",
    "        if verbose:\n",
    "            print(\"Graph input shape:\", graph_t.shape)  # (batch_size, 121, 11)\n",
    "        \n",
    "        squeezed_graph_t = F.relu(self.squeezer(graph_t))\n",
    "        if verbose:\n",
    "            print(\"After squeezer:\", squeezed_graph_t.shape)  # (batch_size, 16, 11)\n",
    "        \n",
    "        gconv = F.relu(self.gconv(squeezed_graph_t))\n",
    "        if verbose:\n",
    "            print(\"After gconv:\", gconv.shape)  # (batch_size, 121, 11)\n",
    "        \n",
    "        unsqueezed_graph = F.relu(self.unsqueezer(gconv))\n",
    "        if verbose:\n",
    "            print(\"After unsqueezer:\", unsqueezed_graph.shape)  # (batch_size, 121, 11)\n",
    "        \n",
    "        glore = unsqueezed_graph.view(batch_size, 8, 8, 8)\n",
    "        if verbose:\n",
    "            print(\"After glore reshape:\", glore.shape)  # (batch_size, 11, 11, 11)\n",
    "        \n",
    "        block1 = torch.cat([x, glore], dim=1)\n",
    "        if verbose:\n",
    "            print(\"After block1 concat:\", block1.shape)  # (batch_size, 22, 11, 11)\n",
    "\n",
    "        # Graph module 1 ends\n",
    "        \n",
    "        block12 = torch.cat([x, block1, attention_out], dim=1)\n",
    "        if verbose:\n",
    "            print(\"After block12 concat:\", block12.shape)  # (batch_size, 44, 11, 11)\n",
    "        \n",
    "        x = F.relu(self.conv2(block12))\n",
    "        if verbose:\n",
    "            print(\"After conv2:\", x.shape)  # (batch_size, 44, 11, 11)\n",
    "            plot_batch_hist(x,\"Before BN2\")\n",
    "\n",
    "        x = self.bn2(x)\n",
    "        if verbose:\n",
    "            print(\"After bn2:\", x.shape)\n",
    "            plot_batch_hist(x, \"After BN2\")\n",
    "\n",
    "        # Graph Module 2 Start\n",
    "        graph_t2 = x.view(batch_size,32,8*8).permute(0,2,1) #(b,121,44)\n",
    "        squeezed_graph_t2 = F.relu(self.squeezer2(graph_t2)) #(b,121, 44)\n",
    "        squeezed_graph2 = squeezed_graph_t2.permute(0,2,1) #(b,44,121)\n",
    "        gconv2 = F.relu(self.gconv2(squeezed_graph2)) #(b,44,121)\n",
    "        unsqueezed_graph_t2 = F.relu(self.unsqueezer2(gconv2)) #(b,121,121)\n",
    "        glore2 = unsqueezed_graph_t2.view(batch_size,64,8,8)\n",
    "\n",
    "        if verbose:\n",
    "            print(\"After glore2:\", glore2.shape)\n",
    "        \n",
    "        # Graph Module 2 end\n",
    "\n",
    "        block2 = torch.cat([x, glore2], dim=1) ## b,165,11,11\n",
    "\n",
    "        block21 = torch.cat([x, block2, attention_out], dim=1) ## b, 220, 11,11\n",
    "\n",
    "        if verbose:\n",
    "            print(\"After block21 concat:\", block21.shape)\n",
    "\n",
    "        x = F.relu(self.conv3(block21))\n",
    "        if verbose:\n",
    "            print(\"After conv3:\", x.shape)\n",
    "            plot_batch_hist(x, \"Before BN3\")\n",
    "\n",
    "        x = self.bn3(x)\n",
    "        if verbose:\n",
    "            print(\"After bn3:\", x.shape)\n",
    "            plot_batch_hist(x, \"After BN3\")\n",
    "\n",
    "        x = F.relu(self.conv4(x))\n",
    "        if verbose:\n",
    "            print(\"After conv4:\", x.shape)  # (batch_size, 64, 11, 11)\n",
    "            plot_batch_hist(x, \"Before BN4\")\n",
    "\n",
    "        x = self.bn4(x)\n",
    "        if verbose:\n",
    "            print(\"After bn4:\", x.shape)\n",
    "            plot_batch_hist(x, \"After BN4\")\n",
    "\n",
    "        x = F.relu(self.conv5(x))\n",
    "        if verbose:\n",
    "            print(\"After conv5:\", x.shape)  # (batch_size, 128, 11, 11)\n",
    "            plot_batch_hist(x, \"Before BN5\")\n",
    "\n",
    "        x = self.bn5(x)\n",
    "        if verbose:\n",
    "            print(\"After bn5:\", x.shape)\n",
    "            plot_batch_hist(x, \"After BN5\")\n",
    "\n",
    "        \n",
    "        x = x.view(batch_size, -1)\n",
    "        if verbose:\n",
    "            print(\"After flattening:\", x.shape)  # (batch_size, 128 * 11 * 11)\n",
    "        \n",
    "        x = F.relu(self.fc1(x))\n",
    "        if verbose:\n",
    "            print(\"After fc1:\", x.shape)  # (batch_size, 100)\n",
    "        \n",
    "        x = F.relu(self.fc2(x))\n",
    "        if verbose:\n",
    "            print(\"After fc2:\", x.shape)  # (batch_size, 20)\n",
    "        \n",
    "        x = F.softmax(self.fc3(x), dim=1)\n",
    "        if verbose:\n",
    "            print(\"After fc3 (softmax):\", x.shape)\n",
    "            # print(x)# (batch_size, 7)\n",
    "        \n",
    "        return x"
   ]
  },
  {
   "cell_type": "code",
   "execution_count": 39,
   "id": "0e7c091e",
   "metadata": {
    "execution": {
     "iopub.execute_input": "2025-04-01T08:58:20.955004Z",
     "iopub.status.busy": "2025-04-01T08:58:20.954431Z",
     "iopub.status.idle": "2025-04-01T08:58:20.958254Z",
     "shell.execute_reply": "2025-04-01T08:58:20.957536Z"
    },
    "papermill": {
     "duration": 0.019787,
     "end_time": "2025-04-01T08:58:20.959853",
     "exception": false,
     "start_time": "2025-04-01T08:58:20.940066",
     "status": "completed"
    },
    "tags": []
   },
   "outputs": [],
   "source": [
    "pre_height = 8\n",
    "pre_width = 8\n",
    "in_dim = 8\n",
    "proj_dim = 8\n",
    "head_dim = 4\n",
    "n_classes = 6\n",
    "attention_dropout = 0.1\n",
    "ff_dropout = 0.1"
   ]
  },
  {
   "cell_type": "code",
   "execution_count": 40,
   "id": "6d6f5853",
   "metadata": {
    "execution": {
     "iopub.execute_input": "2025-04-01T08:58:20.988163Z",
     "iopub.status.busy": "2025-04-01T08:58:20.987352Z",
     "iopub.status.idle": "2025-04-01T08:58:21.047766Z",
     "shell.execute_reply": "2025-04-01T08:58:21.046933Z"
    },
    "papermill": {
     "duration": 0.076858,
     "end_time": "2025-04-01T08:58:21.050113",
     "exception": false,
     "start_time": "2025-04-01T08:58:20.973255",
     "status": "completed"
    },
    "tags": []
   },
   "outputs": [
    {
     "name": "stderr",
     "output_type": "stream",
     "text": [
      "/opt/conda/lib/python3.10/site-packages/torch/functional.py:504: UserWarning: torch.meshgrid: in an upcoming release, it will be required to pass the indexing argument. (Triggered internally at /usr/local/src/pytorch/aten/src/ATen/native/TensorShape.cpp:3526.)\n",
      "  return _VF.meshgrid(tensors, **kwargs)  # type: ignore[attr-defined]\n"
     ]
    },
    {
     "data": {
      "text/plain": [
       "AttentionGCN(\n",
       "  (conv1): Conv2d(17, 8, kernel_size=(1, 1), stride=(1, 1))\n",
       "  (bn1): BatchNorm2d(8, eps=0.001, momentum=0.1, affine=True, track_running_stats=True)\n",
       "  (attention): CoAtNetRelativeAttention(\n",
       "    (Q): Linear(in_features=8, out_features=8, bias=False)\n",
       "    (K): Linear(in_features=8, out_features=8, bias=False)\n",
       "    (V): Linear(in_features=8, out_features=8, bias=False)\n",
       "    (out_linear): Linear(in_features=8, out_features=8, bias=True)\n",
       "    (attention_dropout): Dropout2d(p=0.1, inplace=False)\n",
       "    (out_dropout): Dropout(p=0.1, inplace=False)\n",
       "  )\n",
       "  (squeezer): Conv1d(64, 16, kernel_size=(1,), stride=(1,))\n",
       "  (gconv): Conv1d(16, 64, kernel_size=(1,), stride=(1,))\n",
       "  (unsqueezer): Conv1d(64, 64, kernel_size=(1,), stride=(1,))\n",
       "  (conv2): Conv2d(32, 32, kernel_size=(1, 1), stride=(1, 1))\n",
       "  (bn2): BatchNorm2d(32, eps=0.001, momentum=0.1, affine=True, track_running_stats=True)\n",
       "  (squeezer2): Conv1d(64, 64, kernel_size=(1,), stride=(1,))\n",
       "  (gconv2): Conv1d(32, 32, kernel_size=(1,), stride=(1,))\n",
       "  (unsqueezer2): Conv1d(32, 64, kernel_size=(1,), stride=(1,))\n",
       "  (conv3): Conv2d(136, 32, kernel_size=(1, 1), stride=(1, 1))\n",
       "  (bn3): BatchNorm2d(32, eps=0.001, momentum=0.1, affine=True, track_running_stats=True)\n",
       "  (conv4): Conv2d(32, 64, kernel_size=(3, 3), stride=(1, 1), padding=(1, 1))\n",
       "  (bn4): BatchNorm2d(64, eps=0.001, momentum=0.1, affine=True, track_running_stats=True)\n",
       "  (conv5): Conv2d(64, 128, kernel_size=(1, 1), stride=(1, 1))\n",
       "  (bn5): BatchNorm2d(128, eps=0.001, momentum=0.1, affine=True, track_running_stats=True)\n",
       "  (fc1): Linear(in_features=8192, out_features=100, bias=True)\n",
       "  (fc2): Linear(in_features=100, out_features=20, bias=True)\n",
       "  (fc3): Linear(in_features=20, out_features=6, bias=True)\n",
       ")"
      ]
     },
     "execution_count": 40,
     "metadata": {},
     "output_type": "execute_result"
    }
   ],
   "source": [
    "model = AttentionGCN(pre_height, pre_width, in_dim, proj_dim, head_dim, n_classes, attention_dropout, ff_dropout)\n",
    "model"
   ]
  },
  {
   "cell_type": "code",
   "execution_count": 41,
   "id": "b1743ad2",
   "metadata": {
    "execution": {
     "iopub.execute_input": "2025-04-01T08:58:21.080082Z",
     "iopub.status.busy": "2025-04-01T08:58:21.079819Z",
     "iopub.status.idle": "2025-04-01T08:58:21.086000Z",
     "shell.execute_reply": "2025-04-01T08:58:21.085161Z"
    },
    "papermill": {
     "duration": 0.023157,
     "end_time": "2025-04-01T08:58:21.087550",
     "exception": false,
     "start_time": "2025-04-01T08:58:21.064393",
     "status": "completed"
    },
    "tags": []
   },
   "outputs": [],
   "source": [
    "regularizers = [\n",
    "    {\"params\": model.conv1.parameters(), \"weight_decay\": 0.0005},\n",
    "    {\"params\": model.squeezer.parameters(), \"weight_decay\": 0.0001},\n",
    "    {\"params\": model.gconv.parameters(), \"weight_decay\": 0.0001},\n",
    "    {\"params\": model.unsqueezer.parameters(), \"weight_decay\": 0.0001},\n",
    "    {\"params\": model.conv2.parameters(), \"weight_decay\": 0.0005},\n",
    "    {\"params\": model.squeezer2.parameters(), \"weight_decay\": 0.0001},\n",
    "    {\"params\": model.gconv2.parameters(), \"weight_decay\": 0.0001},\n",
    "    {\"params\": model.unsqueezer2.parameters(), \"weight_decay\": 0.0001},\n",
    "    {\"params\": model.conv3.parameters(), \"weight_decay\": 0.0001},\n",
    "    {\"params\": model.conv4.parameters(), \"weight_decay\": 0.0001},\n",
    "    {\"params\": model.conv5.parameters(), \"weight_decay\": 0.0001},\n",
    "    {\"params\": model.fc1.parameters(), \"weight_decay\": 0.01},\n",
    "    {\"params\": model.fc2.parameters(), \"weight_decay\": 0.01},\n",
    "    {\"params\": model.fc3.parameters(), \"weight_decay\": 0.0001}\n",
    "]"
   ]
  },
  {
   "cell_type": "code",
   "execution_count": 42,
   "id": "d47656fe",
   "metadata": {
    "execution": {
     "iopub.execute_input": "2025-04-01T08:58:21.116402Z",
     "iopub.status.busy": "2025-04-01T08:58:21.115630Z",
     "iopub.status.idle": "2025-04-01T08:58:21.120962Z",
     "shell.execute_reply": "2025-04-01T08:58:21.120331Z"
    },
    "papermill": {
     "duration": 0.021282,
     "end_time": "2025-04-01T08:58:21.122558",
     "exception": false,
     "start_time": "2025-04-01T08:58:21.101276",
     "status": "completed"
    },
    "tags": []
   },
   "outputs": [],
   "source": [
    "def count_parameters(model):\n",
    "    print(f\"{'Layer':<40}{'Trainable Params':<20}{'Non-trainable Params'}\")\n",
    "    print(\"=\"*80)\n",
    "    \n",
    "    total_trainable = 0\n",
    "    total_non_trainable = 0\n",
    "    \n",
    "    for name, param in model.named_parameters():\n",
    "        num_params = param.numel()\n",
    "        if param.requires_grad:\n",
    "            num_trainable = num_params\n",
    "            num_non_trainable = 0\n",
    "        else:\n",
    "            num_trainable = 0\n",
    "            num_non_trainable = num_params\n",
    "        \n",
    "        total_trainable += num_trainable\n",
    "        total_non_trainable += num_non_trainable\n",
    "        \n",
    "        print(f\"{name:<40}{num_trainable:<20}{num_non_trainable}\")\n",
    "    \n",
    "    print(\"=\"*80)\n",
    "    print(f\"{'Total':<40}{total_trainable:<20}{total_non_trainable}\")"
   ]
  },
  {
   "cell_type": "code",
   "execution_count": 43,
   "id": "7a1fa27d",
   "metadata": {
    "execution": {
     "iopub.execute_input": "2025-04-01T08:58:21.151658Z",
     "iopub.status.busy": "2025-04-01T08:58:21.151406Z",
     "iopub.status.idle": "2025-04-01T08:58:21.156014Z",
     "shell.execute_reply": "2025-04-01T08:58:21.155194Z"
    },
    "papermill": {
     "duration": 0.020426,
     "end_time": "2025-04-01T08:58:21.157706",
     "exception": false,
     "start_time": "2025-04-01T08:58:21.137280",
     "status": "completed"
    },
    "tags": []
   },
   "outputs": [
    {
     "name": "stdout",
     "output_type": "stream",
     "text": [
      "Layer                                   Trainable Params    Non-trainable Params\n",
      "================================================================================\n",
      "conv1.weight                            136                 0\n",
      "conv1.bias                              8                   0\n",
      "bn1.weight                              8                   0\n",
      "bn1.bias                                8                   0\n",
      "attention.relative_bias                 450                 0\n",
      "attention.Q.weight                      64                  0\n",
      "attention.K.weight                      64                  0\n",
      "attention.V.weight                      64                  0\n",
      "attention.out_linear.weight             64                  0\n",
      "attention.out_linear.bias               8                   0\n",
      "squeezer.weight                         1024                0\n",
      "squeezer.bias                           16                  0\n",
      "gconv.weight                            1024                0\n",
      "gconv.bias                              64                  0\n",
      "unsqueezer.weight                       4096                0\n",
      "unsqueezer.bias                         64                  0\n",
      "conv2.weight                            1024                0\n",
      "conv2.bias                              32                  0\n",
      "bn2.weight                              32                  0\n",
      "bn2.bias                                32                  0\n",
      "squeezer2.weight                        4096                0\n",
      "squeezer2.bias                          64                  0\n",
      "gconv2.weight                           1024                0\n",
      "gconv2.bias                             32                  0\n",
      "unsqueezer2.weight                      2048                0\n",
      "unsqueezer2.bias                        64                  0\n",
      "conv3.weight                            4352                0\n",
      "conv3.bias                              32                  0\n",
      "bn3.weight                              32                  0\n",
      "bn3.bias                                32                  0\n",
      "conv4.weight                            18432               0\n",
      "conv4.bias                              64                  0\n",
      "bn4.weight                              64                  0\n",
      "bn4.bias                                64                  0\n",
      "conv5.weight                            8192                0\n",
      "conv5.bias                              128                 0\n",
      "bn5.weight                              128                 0\n",
      "bn5.bias                                128                 0\n",
      "fc1.weight                              819200              0\n",
      "fc1.bias                                100                 0\n",
      "fc2.weight                              2000                0\n",
      "fc2.bias                                20                  0\n",
      "fc3.weight                              120                 0\n",
      "fc3.bias                                6                   0\n",
      "================================================================================\n",
      "Total                                   868704              0\n"
     ]
    }
   ],
   "source": [
    "count_parameters(model)"
   ]
  },
  {
   "cell_type": "code",
   "execution_count": 44,
   "id": "66ef0adb",
   "metadata": {
    "execution": {
     "iopub.execute_input": "2025-04-01T08:58:21.186105Z",
     "iopub.status.busy": "2025-04-01T08:58:21.185842Z",
     "iopub.status.idle": "2025-04-01T08:58:21.191227Z",
     "shell.execute_reply": "2025-04-01T08:58:21.190405Z"
    },
    "papermill": {
     "duration": 0.021435,
     "end_time": "2025-04-01T08:58:21.192938",
     "exception": false,
     "start_time": "2025-04-01T08:58:21.171503",
     "status": "completed"
    },
    "tags": []
   },
   "outputs": [],
   "source": [
    "def apply_pca(hsi, out_components=17):\n",
    "    b, c, h, w = hsi.shape  # Batch, Channels, Height, Width\n",
    "\n",
    "    # Reshape to (b, h*w, c) for PCA\n",
    "    reshaped_hsi = hsi.reshape(b, c, h * w).permute(0, 2, 1).cpu().numpy()  # Convert to NumPy (b, h*w, c)\n",
    "\n",
    "    # Fit PCA on the first sample, transform all samples\n",
    "    pca = PCA(n_components=out_components)\n",
    "    pca.fit(reshaped_hsi[0])  # Fit only on the first batch element\n",
    "    transformed_hsi = np.array([pca.transform(sample) for sample in reshaped_hsi])  # Transform all\n",
    "\n",
    "    # Convert to PyTorch tensor and reshape back\n",
    "    output_hsi = torch.from_numpy(transformed_hsi).float().permute(0, 2, 1).reshape(b, out_components, h, w)\n",
    "\n",
    "    return output_hsi"
   ]
  },
  {
   "cell_type": "code",
   "execution_count": 45,
   "id": "56c2d3e4",
   "metadata": {
    "execution": {
     "iopub.execute_input": "2025-04-01T08:58:21.221308Z",
     "iopub.status.busy": "2025-04-01T08:58:21.221052Z",
     "iopub.status.idle": "2025-04-01T08:58:21.287338Z",
     "shell.execute_reply": "2025-04-01T08:58:21.286616Z"
    },
    "papermill": {
     "duration": 0.082309,
     "end_time": "2025-04-01T08:58:21.288985",
     "exception": false,
     "start_time": "2025-04-01T08:58:21.206676",
     "status": "completed"
    },
    "tags": []
   },
   "outputs": [
    {
     "data": {
      "text/plain": [
       "device(type='cuda')"
      ]
     },
     "execution_count": 45,
     "metadata": {},
     "output_type": "execute_result"
    }
   ],
   "source": [
    "device = torch.device(\"cuda\" if torch.cuda.is_available() else \"cpu\")\n",
    "device"
   ]
  },
  {
   "cell_type": "code",
   "execution_count": 46,
   "id": "6127bdb1",
   "metadata": {
    "execution": {
     "iopub.execute_input": "2025-04-01T08:58:21.318762Z",
     "iopub.status.busy": "2025-04-01T08:58:21.318247Z",
     "iopub.status.idle": "2025-04-01T08:58:21.323334Z",
     "shell.execute_reply": "2025-04-01T08:58:21.322546Z"
    },
    "papermill": {
     "duration": 0.021382,
     "end_time": "2025-04-01T08:58:21.324923",
     "exception": false,
     "start_time": "2025-04-01T08:58:21.303541",
     "status": "completed"
    },
    "tags": []
   },
   "outputs": [
    {
     "data": {
      "text/plain": [
       "(64, 6)"
      ]
     },
     "execution_count": 46,
     "metadata": {},
     "output_type": "execute_result"
    }
   ],
   "source": [
    "BAND, CLASSES_NUM"
   ]
  },
  {
   "cell_type": "code",
   "execution_count": 47,
   "id": "214ae7af",
   "metadata": {
    "execution": {
     "iopub.execute_input": "2025-04-01T08:58:21.353310Z",
     "iopub.status.busy": "2025-04-01T08:58:21.353075Z",
     "iopub.status.idle": "2025-04-01T08:58:21.509184Z",
     "shell.execute_reply": "2025-04-01T08:58:21.508446Z"
    },
    "papermill": {
     "duration": 0.17259,
     "end_time": "2025-04-01T08:58:21.511259",
     "exception": false,
     "start_time": "2025-04-01T08:58:21.338669",
     "status": "completed"
    },
    "tags": []
   },
   "outputs": [],
   "source": [
    "model = model.to(device)"
   ]
  },
  {
   "cell_type": "code",
   "execution_count": 48,
   "id": "9c156417",
   "metadata": {
    "execution": {
     "iopub.execute_input": "2025-04-01T08:58:21.541826Z",
     "iopub.status.busy": "2025-04-01T08:58:21.541495Z",
     "iopub.status.idle": "2025-04-01T08:58:21.948057Z",
     "shell.execute_reply": "2025-04-01T08:58:21.947206Z"
    },
    "papermill": {
     "duration": 0.423912,
     "end_time": "2025-04-01T08:58:21.949887",
     "exception": false,
     "start_time": "2025-04-01T08:58:21.525975",
     "status": "completed"
    },
    "tags": []
   },
   "outputs": [
    {
     "data": {
      "text/plain": [
       "torch.Size([64, 6])"
      ]
     },
     "execution_count": 48,
     "metadata": {},
     "output_type": "execute_result"
    }
   ],
   "source": [
    "randin = torch.randn(64,17,8,8).to(device)\n",
    "outp = model(randin)\n",
    "outp.shape"
   ]
  },
  {
   "cell_type": "code",
   "execution_count": 49,
   "id": "e3258341",
   "metadata": {
    "execution": {
     "iopub.execute_input": "2025-04-01T08:58:21.979983Z",
     "iopub.status.busy": "2025-04-01T08:58:21.979282Z",
     "iopub.status.idle": "2025-04-01T08:58:21.990494Z",
     "shell.execute_reply": "2025-04-01T08:58:21.989794Z"
    },
    "papermill": {
     "duration": 0.027807,
     "end_time": "2025-04-01T08:58:21.992057",
     "exception": false,
     "start_time": "2025-04-01T08:58:21.964250",
     "status": "completed"
    },
    "tags": []
   },
   "outputs": [],
   "source": [
    "def get_confusion_matrix(y_test, y_pred, plt_name):\n",
    "    df_cm = pd.DataFrame(confusion_matrix(y_test, y_pred), range(6), range(6))\n",
    "    df_cm.columns = [\"0\", \"1\", \"2\",\n",
    "                     \"3\", \"4\",\n",
    "                     \"5\"]\n",
    "    df_cm = df_cm.rename({0: '0', 1: '1', 2: '2', 3: '3', 4: '4',\n",
    "                          5: '5'})\n",
    "    df_cm.index.name = 'Actual'\n",
    "    df_cm.columns.name = 'Predicted'\n",
    "    sns.set(font_scale=0.9)  # for label size\n",
    "    sns.heatmap(df_cm, cmap=\"Blues\", annot=True, annot_kws={\"size\": 16}, fmt='g')\n",
    "    plt.savefig(str(plt_name) + '.png', format='png')  # Save as a PNG image\n",
    "    plt.close()\n",
    "    \n",
    "\n",
    "def AA_andEachClassAccuracy(confusion_matrix):\n",
    "    counter = confusion_matrix.shape[0]\n",
    "    list_diag = np.diag(confusion_matrix)\n",
    "    list_raw_sum = np.sum(confusion_matrix, axis=1)\n",
    "    each_acc = np.nan_to_num(truediv(list_diag, list_raw_sum))\n",
    "    average_acc = np.mean(each_acc)\n",
    "    return each_acc, average_acc\n",
    "\n",
    "def reports(test_loader, save_dir_name, model, iternum=1):\n",
    "    model.eval()\n",
    "    all_preds = []\n",
    "    all_labels = []\n",
    "\n",
    "    with torch.no_grad():\n",
    "        for data, labels in test_loader:\n",
    "            data = data = apply_pca(data).to(device)\n",
    "            labels = labels.to(device)\n",
    "            \n",
    "            outputs = model(data)\n",
    "            _, preds = torch.max(outputs, 1)\n",
    "            \n",
    "            all_preds.append(preds.cpu())\n",
    "            all_labels.append(labels.cpu())\n",
    "\n",
    "    all_preds = torch.cat(all_preds)\n",
    "    all_labels = torch.cat(all_labels)\n",
    "\n",
    "    oa = accuracy_score(all_labels-1, all_preds)\n",
    "    confusion = confusion_matrix(all_labels-1, all_preds)\n",
    "    each_acc, aa = AA_andEachClassAccuracy(confusion)\n",
    "    kappa = cohen_kappa_score(all_labels-1, all_preds)\n",
    "\n",
    "    get_confusion_matrix(all_labels-1, all_preds, 'test_'+str(iternum))\n",
    "\n",
    "    return confusion, oa * 100, each_acc * 100, aa * 100, kappa * 100\n",
    "\n",
    "def list_to_colormap(x_list):\n",
    "    \"\"\"Convert a label array to an RGB colormap.\"\"\"\n",
    "    colormap = np.zeros((x_list.shape[0], x_list.shape[1], 3))  # Create RGB array\n",
    "    \n",
    "    # Define class colors (example: 10 classes, change as needed)\n",
    "    colors = {\n",
    "        0: [255, 0, 0],   # Red\n",
    "        1: [0, 255, 0],   # Green\n",
    "        2: [0, 0, 255],   # Blue\n",
    "        3: [255, 255, 0], # Yellow\n",
    "        4: [255, 165, 0], # Orange\n",
    "        5: [128, 0, 128], # Purple\n",
    "        # 6: [0, 255, 255], # Cyan\n",
    "        # 7: [255, 192, 203], # Pink\n",
    "        # 8: [128, 128, 0], # Olive\n",
    "        # 9: [0, 128, 128], # Teal\n",
    "    }\n",
    "\n",
    "    # Convert labels to colors\n",
    "    for (i, j), label in np.ndenumerate(x_list):  \n",
    "        colormap[i, j] = np.array(colors.get(label, [0, 0, 0])) / 255.  # Default black for unknown labels\n",
    "\n",
    "    return colormap\n"
   ]
  },
  {
   "cell_type": "code",
   "execution_count": 50,
   "id": "fafbb768",
   "metadata": {
    "execution": {
     "iopub.execute_input": "2025-04-01T08:58:22.021381Z",
     "iopub.status.busy": "2025-04-01T08:58:22.020863Z",
     "iopub.status.idle": "2025-04-01T08:58:22.026488Z",
     "shell.execute_reply": "2025-04-01T08:58:22.025858Z"
    },
    "papermill": {
     "duration": 0.022119,
     "end_time": "2025-04-01T08:58:22.027985",
     "exception": false,
     "start_time": "2025-04-01T08:58:22.005866",
     "status": "completed"
    },
    "tags": []
   },
   "outputs": [],
   "source": [
    "def predict_and_save_grid(dataset, model, save_path):\n",
    "    \"\"\"\n",
    "    Process each patch sequentially, predict its label, and map it back to the (325, 220) grid.\n",
    "\n",
    "    Args:\n",
    "        dataset (PatchSet): The dataset containing hyperspectral patches.\n",
    "        model (torch.nn.Module): The trained model.\n",
    "        save_path (str): Path to save the prediction map.\n",
    "    \"\"\"\n",
    "    model.eval()\n",
    "    device = next(model.parameters()).device  # Ensure model and data are on the same device\n",
    "\n",
    "    preds = np.zeros(len(dataset), dtype=np.uint8)  # Store predictions\n",
    "\n",
    "    with torch.no_grad():\n",
    "        for i in range(len(dataset)):\n",
    "            data = dataset[i]  # Unpack (data, label)\n",
    "            data = data.unsqueeze(0)\n",
    "            data = apply_pca(data).to(device)\n",
    "            output = model(data)\n",
    "            pred = output.argmax(dim=1).cpu().item()  # Get class prediction\n",
    "            preds[i] = pred  # Store prediction\n",
    "\n",
    "    # Reshape predictions into a 2D grid (325, 220)\n",
    "    pred_grid = preds.reshape((166, 600))\n",
    "\n",
    "    # Convert to colormap and save\n",
    "    colormap = list_to_colormap(pred_grid)\n",
    "    plt.imsave(save_path, colormap)"
   ]
  },
  {
   "cell_type": "code",
   "execution_count": 51,
   "id": "62e8ed8b",
   "metadata": {
    "execution": {
     "iopub.execute_input": "2025-04-01T08:58:22.057112Z",
     "iopub.status.busy": "2025-04-01T08:58:22.056417Z",
     "iopub.status.idle": "2025-04-01T08:58:22.061415Z",
     "shell.execute_reply": "2025-04-01T08:58:22.060611Z"
    },
    "papermill": {
     "duration": 0.021299,
     "end_time": "2025-04-01T08:58:22.063027",
     "exception": false,
     "start_time": "2025-04-01T08:58:22.041728",
     "status": "completed"
    },
    "tags": []
   },
   "outputs": [
    {
     "data": {
      "text/plain": [
       "device(type='cuda')"
      ]
     },
     "execution_count": 51,
     "metadata": {},
     "output_type": "execute_result"
    }
   ],
   "source": [
    "device"
   ]
  },
  {
   "cell_type": "code",
   "execution_count": 52,
   "id": "347aad35",
   "metadata": {
    "execution": {
     "iopub.execute_input": "2025-04-01T08:58:22.093302Z",
     "iopub.status.busy": "2025-04-01T08:58:22.093029Z",
     "iopub.status.idle": "2025-04-01T08:58:22.126859Z",
     "shell.execute_reply": "2025-04-01T08:58:22.125955Z"
    },
    "papermill": {
     "duration": 0.050647,
     "end_time": "2025-04-01T08:58:22.128858",
     "exception": false,
     "start_time": "2025-04-01T08:58:22.078211",
     "status": "completed"
    },
    "tags": []
   },
   "outputs": [
    {
     "name": "stdout",
     "output_type": "stream",
     "text": [
      "----------------------------------------------------------------\n",
      "        Layer (type)               Output Shape         Param #\n",
      "================================================================\n",
      "            Conv2d-1              [-1, 8, 8, 8]             144\n",
      "       BatchNorm2d-2              [-1, 8, 8, 8]              16\n",
      "            Linear-3                [-1, 64, 8]              64\n",
      "            Linear-4                [-1, 64, 8]              64\n",
      "            Linear-5                [-1, 64, 8]              64\n",
      "         Dropout2d-6            [-1, 2, 64, 64]               0\n",
      "            Linear-7                [-1, 64, 8]              72\n",
      "           Dropout-8                [-1, 64, 8]               0\n",
      "CoAtNetRelativeAttention-9              [-1, 8, 8, 8]               0\n",
      "           Conv1d-10                [-1, 16, 8]           1,040\n",
      "           Conv1d-11                [-1, 64, 8]           1,088\n",
      "           Conv1d-12                [-1, 64, 8]           4,160\n",
      "           Conv2d-13             [-1, 32, 8, 8]           1,056\n",
      "      BatchNorm2d-14             [-1, 32, 8, 8]              64\n",
      "           Conv1d-15               [-1, 64, 32]           4,160\n",
      "           Conv1d-16               [-1, 32, 64]           1,056\n",
      "           Conv1d-17               [-1, 64, 64]           2,112\n",
      "           Conv2d-18             [-1, 32, 8, 8]           4,384\n",
      "      BatchNorm2d-19             [-1, 32, 8, 8]              64\n",
      "           Conv2d-20             [-1, 64, 8, 8]          18,496\n",
      "      BatchNorm2d-21             [-1, 64, 8, 8]             128\n",
      "           Conv2d-22            [-1, 128, 8, 8]           8,320\n",
      "      BatchNorm2d-23            [-1, 128, 8, 8]             256\n",
      "           Linear-24                  [-1, 100]         819,300\n",
      "           Linear-25                   [-1, 20]           2,020\n",
      "           Linear-26                    [-1, 6]             126\n",
      "================================================================\n",
      "Total params: 868,254\n",
      "Trainable params: 868,254\n",
      "Non-trainable params: 0\n",
      "----------------------------------------------------------------\n",
      "Input size (MB): 0.00\n",
      "Forward/backward pass size (MB): 0.42\n",
      "Params size (MB): 3.31\n",
      "Estimated Total Size (MB): 3.73\n",
      "----------------------------------------------------------------\n"
     ]
    }
   ],
   "source": [
    "summary(model, input_size=(17, 8, 8))"
   ]
  },
  {
   "cell_type": "code",
   "execution_count": 53,
   "id": "fec2ab36",
   "metadata": {
    "execution": {
     "iopub.execute_input": "2025-04-01T08:58:22.158530Z",
     "iopub.status.busy": "2025-04-01T08:58:22.158264Z",
     "iopub.status.idle": "2025-04-01T08:58:22.162663Z",
     "shell.execute_reply": "2025-04-01T08:58:22.161967Z"
    },
    "papermill": {
     "duration": 0.020857,
     "end_time": "2025-04-01T08:58:22.164232",
     "exception": false,
     "start_time": "2025-04-01T08:58:22.143375",
     "status": "completed"
    },
    "tags": []
   },
   "outputs": [],
   "source": [
    "import sys\n",
    "\n",
    "def custom_progress_bar(current, total, bar_length=40):\n",
    "    progress = current / total\n",
    "    filled_length = int(bar_length * progress)\n",
    "    bar = \"█\" * filled_length + \"-\" * (bar_length - filled_length)\n",
    "    \n",
    "    sys.stdout.write(f\"\\rProgress: |{bar}| {current}/{total} epochs\")\n",
    "    sys.stdout.flush()"
   ]
  },
  {
   "cell_type": "code",
   "execution_count": 54,
   "id": "626403d4",
   "metadata": {
    "execution": {
     "iopub.execute_input": "2025-04-01T08:58:22.194001Z",
     "iopub.status.busy": "2025-04-01T08:58:22.193719Z",
     "iopub.status.idle": "2025-04-01T08:58:22.199519Z",
     "shell.execute_reply": "2025-04-01T08:58:22.198724Z"
    },
    "papermill": {
     "duration": 0.022874,
     "end_time": "2025-04-01T08:58:22.201164",
     "exception": false,
     "start_time": "2025-04-01T08:58:22.178290",
     "status": "completed"
    },
    "tags": []
   },
   "outputs": [],
   "source": [
    "Classes = 6\n",
    "lr = 5e-4\n",
    "wd = 1e-6\n",
    "EPOCH = 150\n",
    "VAL_EPOCH = 5\n",
    "save_dir_name = \"savedModelsMUUFL\"\n",
    "shutil.rmtree(save_dir_name, ignore_errors=True)\n",
    "os.mkdir(save_dir_name)\n",
    "SAVE_PATH = os.path.join(save_dir_name,'')\n",
    "datasetName = \"MUUFL\"\n",
    "shutil.rmtree(datasetName, ignore_errors=True)\n",
    "os.mkdir(datasetName)\n",
    "\n",
    "OA = []\n",
    "AA = []\n",
    "Kappa = []\n",
    "ELEMENT_ACC = np.zeros((3, Classes))\n",
    "loss_list = []\n",
    "acc_list = []\n",
    "val_acc_list = []\n",
    "val_epoch_list = []\n",
    "BestAcc = 0"
   ]
  },
  {
   "cell_type": "code",
   "execution_count": 55,
   "id": "48a93291",
   "metadata": {
    "execution": {
     "iopub.execute_input": "2025-04-01T08:58:22.230848Z",
     "iopub.status.busy": "2025-04-01T08:58:22.230265Z",
     "iopub.status.idle": "2025-04-01T08:58:22.236007Z",
     "shell.execute_reply": "2025-04-01T08:58:22.235125Z"
    },
    "papermill": {
     "duration": 0.022107,
     "end_time": "2025-04-01T08:58:22.237467",
     "exception": false,
     "start_time": "2025-04-01T08:58:22.215360",
     "status": "completed"
    },
    "tags": []
   },
   "outputs": [],
   "source": [
    "criterion = nn.CrossEntropyLoss()\n",
    "optimizer = torch.optim.Adam(regularizers, lr=0.001, weight_decay=1e-6)\n",
    "\n",
    "batch_num = len(train_loader)\n",
    "train_num = len(train_loader.dataset)\n",
    "val_num = len(val_loader.dataset)"
   ]
  },
  {
   "cell_type": "code",
   "execution_count": 56,
   "id": "a8decb0e",
   "metadata": {
    "execution": {
     "iopub.execute_input": "2025-04-01T08:58:22.268499Z",
     "iopub.status.busy": "2025-04-01T08:58:22.267833Z",
     "iopub.status.idle": "2025-04-01T08:58:22.271440Z",
     "shell.execute_reply": "2025-04-01T08:58:22.270623Z"
    },
    "papermill": {
     "duration": 0.02124,
     "end_time": "2025-04-01T08:58:22.272995",
     "exception": false,
     "start_time": "2025-04-01T08:58:22.251755",
     "status": "completed"
    },
    "tags": []
   },
   "outputs": [],
   "source": [
    "# checkpoint = torch.load(r\"/kaggle/input/muufl-agcn/pytorch/lite/1/epoch_95_model.pth\", weights_only= True)\n",
    "# model.load_state_dict(checkpoint[\"model_state_dict\"])"
   ]
  },
  {
   "cell_type": "code",
   "execution_count": null,
   "id": "578f5b17",
   "metadata": {
    "papermill": {
     "duration": 0.014141,
     "end_time": "2025-04-01T08:58:22.301166",
     "exception": false,
     "start_time": "2025-04-01T08:58:22.287025",
     "status": "completed"
    },
    "tags": []
   },
   "outputs": [],
   "source": []
  },
  {
   "cell_type": "code",
   "execution_count": 57,
   "id": "8cfc0165",
   "metadata": {
    "execution": {
     "iopub.execute_input": "2025-04-01T08:58:22.331036Z",
     "iopub.status.busy": "2025-04-01T08:58:22.330416Z",
     "iopub.status.idle": "2025-04-01T09:02:30.455565Z",
     "shell.execute_reply": "2025-04-01T09:02:30.454714Z"
    },
    "papermill": {
     "duration": 248.142215,
     "end_time": "2025-04-01T09:02:30.457265",
     "exception": false,
     "start_time": "2025-04-01T08:58:22.315050",
     "status": "completed"
    },
    "tags": []
   },
   "outputs": [
    {
     "name": "stdout",
     "output_type": "stream",
     "text": [
      "\n",
      "epoch 0/150 loss: 0.024952352816440617  acc: 0.4789804700430321\n",
      "Progress: |----------------------------------------| 1/150 epochs\n",
      "epoch 1/150 loss: 0.02541781103165092  acc: 0.4352863290301225\n",
      "Progress: |----------------------------------------| 2/150 epochs\n",
      "epoch 2/150 loss: 0.023777651534258867  acc: 0.5428666004634227\n",
      "Progress: |----------------------------------------| 3/150 epochs\n",
      "epoch 3/150 loss: 0.023382749710600725  acc: 0.5716650115855677\n",
      "Progress: |█---------------------------------------| 4/150 epochs\n",
      "epoch 4/150 loss: 0.02217340118164497  acc: 0.654750082754055\n",
      "Progress: |█---------------------------------------| 5/150 epochs\n",
      "epoch 4/150  val_acc: 0.42039059913935783\n",
      "Current Best Accuracy: 0\n",
      "Better Accuracy Found. Saving.\n",
      "\n",
      "epoch 5/150 loss: 0.021191035781779537  acc: 0.7034094670638862\n",
      "Progress: |█---------------------------------------| 6/150 epochs\n",
      "epoch 6/150 loss: 0.020635112473918128  acc: 0.7490897053955644\n",
      "Progress: |█---------------------------------------| 7/150 epochs\n",
      "epoch 7/150 loss: 0.020623584134576337  acc: 0.7487586891757696\n",
      "Progress: |██--------------------------------------| 8/150 epochs\n",
      "epoch 8/150 loss: 0.019987959729169072  acc: 0.7858325057927839\n",
      "Progress: |██--------------------------------------| 9/150 epochs\n",
      "epoch 9/150 loss: 0.019597145825259458  acc: 0.812975835815955\n",
      "Progress: |██--------------------------------------| 10/150 epochs\n",
      "epoch 9/150  val_acc: 0.5475008275405495\n",
      "Current Best Accuracy: 0.42039059913935783\n",
      "Better Accuracy Found. Saving.\n",
      "\n",
      "epoch 10/150 loss: 0.020059282359047782  acc: 0.7759020191989408\n",
      "Progress: |██--------------------------------------| 11/150 epochs\n",
      "epoch 11/150 loss: 0.019660526377915627  acc: 0.8096656736180072\n",
      "Progress: |███-------------------------------------| 12/150 epochs\n",
      "epoch 12/150 loss: 0.019413301543027745  acc: 0.8222442899702085\n",
      "Progress: |███-------------------------------------| 13/150 epochs\n",
      "epoch 13/150 loss: 0.01912570058885137  acc: 0.8417742469381\n",
      "Progress: |███-------------------------------------| 14/150 epochs\n",
      "epoch 14/150 loss: 0.0186772558003299  acc: 0.8699106256206555\n",
      "Progress: |████------------------------------------| 15/150 epochs\n",
      "epoch 14/150  val_acc: 0.49751737835153925\n",
      "Current Best Accuracy: 0.5475008275405495\n",
      "\n",
      "epoch 15/150 loss: 0.01880686005311705  acc: 0.8642833498841443\n",
      "Progress: |████------------------------------------| 16/150 epochs\n",
      "epoch 16/150 loss: 0.01850844455530848  acc: 0.8801721284342933\n",
      "Progress: |████------------------------------------| 17/150 epochs\n",
      "epoch 17/150 loss: 0.018465926456988076  acc: 0.8887785501489573\n",
      "Progress: |████------------------------------------| 18/150 epochs\n",
      "epoch 18/150 loss: 0.018536846513820777  acc: 0.8795100959947038\n",
      "Progress: |█████-----------------------------------| 19/150 epochs\n",
      "epoch 19/150 loss: 0.018384485835075695  acc: 0.892088712346905\n",
      "Progress: |█████-----------------------------------| 20/150 epochs\n",
      "epoch 19/150  val_acc: 0.5001655081098973\n",
      "Current Best Accuracy: 0.5475008275405495\n",
      "\n",
      "epoch 20/150 loss: 0.018572415827284267  acc: 0.8785170473353194\n",
      "Progress: |█████-----------------------------------| 21/150 epochs\n",
      "epoch 21/150 loss: 0.018511915790920264  acc: 0.8841443230718306\n",
      "Progress: |█████-----------------------------------| 22/150 epochs\n",
      "epoch 22/150 loss: 0.018999639310334857  acc: 0.8477325388944058\n",
      "Progress: |██████----------------------------------| 23/150 epochs\n",
      "epoch 23/150 loss: 0.01827456169040027  acc: 0.8987090367428004\n",
      "Progress: |██████----------------------------------| 24/150 epochs\n",
      "epoch 24/150 loss: 0.018275067451891225  acc: 0.8947368421052632\n",
      "Progress: |██████----------------------------------| 25/150 epochs\n",
      "epoch 24/150  val_acc: 0.5415425355842436\n",
      "Current Best Accuracy: 0.5475008275405495\n",
      "\n",
      "epoch 25/150 loss: 0.018176925730839427  acc: 0.9046673286991063\n",
      "Progress: |██████----------------------------------| 26/150 epochs\n",
      "epoch 26/150 loss: 0.01866724454815993  acc: 0.8765309500165508\n",
      "Progress: |███████---------------------------------| 27/150 epochs\n",
      "epoch 27/150 loss: 0.018235717811003617  acc: 0.8940748096656737\n",
      "Progress: |███████---------------------------------| 28/150 epochs\n",
      "epoch 28/150 loss: 0.01858970042452517  acc: 0.8752068851373718\n",
      "Progress: |███████---------------------------------| 29/150 epochs\n",
      "epoch 29/150 loss: 0.01810102954442751  acc: 0.9036742800397219\n",
      "Progress: |████████--------------------------------| 30/150 epochs\n",
      "epoch 29/150  val_acc: 0.6338960609069845\n",
      "Current Best Accuracy: 0.5475008275405495\n",
      "Better Accuracy Found. Saving.\n",
      "\n",
      "epoch 30/150 loss: 0.018120052048166396  acc: 0.9046673286991063\n",
      "Progress: |████████--------------------------------| 31/150 epochs\n",
      "epoch 31/150 loss: 0.018053695959036258  acc: 0.9122807017543859\n",
      "Progress: |████████--------------------------------| 32/150 epochs\n",
      "epoch 32/150 loss: 0.018005563067663825  acc: 0.9096325719960278\n",
      "Progress: |████████--------------------------------| 33/150 epochs\n",
      "epoch 33/150 loss: 0.018037580094247493  acc: 0.913604766633565\n",
      "Progress: |█████████-------------------------------| 34/150 epochs\n",
      "epoch 34/150 loss: 0.017911862040623575  acc: 0.9195630585898709\n",
      "Progress: |█████████-------------------------------| 35/150 epochs\n",
      "epoch 34/150  val_acc: 0.5991393578285336\n",
      "Current Best Accuracy: 0.6338960609069845\n",
      "\n",
      "epoch 35/150 loss: 0.017887832667803142  acc: 0.9198940748096657\n",
      "Progress: |█████████-------------------------------| 36/150 epochs\n",
      "epoch 36/150 loss: 0.018069079481817484  acc: 0.9089705395564383\n",
      "Progress: |█████████-------------------------------| 37/150 epochs\n",
      "epoch 37/150 loss: 0.01781180492105645  acc: 0.9261833829857663\n",
      "Progress: |██████████------------------------------| 38/150 epochs\n",
      "epoch 38/150 loss: 0.017892577481640762  acc: 0.9189010261502814\n",
      "Progress: |██████████------------------------------| 39/150 epochs\n",
      "epoch 39/150 loss: 0.01791700666529262  acc: 0.9175769612711023\n",
      "Progress: |██████████------------------------------| 40/150 epochs\n",
      "epoch 39/150  val_acc: 0.5177093677590202\n",
      "Current Best Accuracy: 0.6338960609069845\n",
      "\n",
      "epoch 40/150 loss: 0.01795295542812  acc: 0.9129427341939755\n",
      "Progress: |██████████------------------------------| 41/150 epochs\n",
      "epoch 41/150 loss: 0.018084646415647315  acc: 0.9056603773584906\n",
      "Progress: |███████████-----------------------------| 42/150 epochs\n",
      "epoch 42/150 loss: 0.018157899675681786  acc: 0.9030122476001324\n",
      "Progress: |███████████-----------------------------| 43/150 epochs\n",
      "epoch 43/150 loss: 0.017773264806343995  acc: 0.9275074478649454\n",
      "Progress: |███████████-----------------------------| 44/150 epochs\n",
      "epoch 44/150 loss: 0.017811334949974507  acc: 0.9235352532274081\n",
      "Progress: |████████████----------------------------| 45/150 epochs\n",
      "epoch 44/150  val_acc: 0.5832505792783846\n",
      "Current Best Accuracy: 0.6338960609069845\n",
      "\n",
      "epoch 45/150 loss: 0.01803017826673804  acc: 0.9096325719960278\n",
      "Progress: |████████████----------------------------| 46/150 epochs\n",
      "epoch 46/150 loss: 0.017751581382372646  acc: 0.9318106587222774\n",
      "Progress: |████████████----------------------------| 47/150 epochs\n",
      "epoch 47/150 loss: 0.017776197725792902  acc: 0.9255213505461768\n",
      "Progress: |████████████----------------------------| 48/150 epochs\n",
      "epoch 48/150 loss: 0.01798406944729484  acc: 0.9162528963919232\n",
      "Progress: |█████████████---------------------------| 49/150 epochs\n",
      "epoch 49/150 loss: 0.017736431542945515  acc: 0.9298245614035088\n",
      "Progress: |█████████████---------------------------| 50/150 epochs\n",
      "epoch 49/150  val_acc: 0.5832505792783846\n",
      "Current Best Accuracy: 0.6338960609069845\n",
      "\n",
      "epoch 50/150 loss: 0.017786263946033165  acc: 0.9258523667659715\n",
      "Progress: |█████████████---------------------------| 51/150 epochs\n",
      "epoch 51/150 loss: 0.018017059562617444  acc: 0.9086395233366436\n",
      "Progress: |█████████████---------------------------| 52/150 epochs\n",
      "epoch 52/150 loss: 0.01779878841887559  acc: 0.9265143992055611\n",
      "Progress: |██████████████--------------------------| 53/150 epochs\n",
      "epoch 53/150 loss: 0.017695784766087665  acc: 0.9288315127441245\n",
      "Progress: |██████████████--------------------------| 54/150 epochs\n",
      "epoch 54/150 loss: 0.017747907321289728  acc: 0.9281694803045349\n",
      "Progress: |██████████████--------------------------| 55/150 epochs\n",
      "epoch 54/150  val_acc: 0.5322740814299901\n",
      "Current Best Accuracy: 0.6338960609069845\n",
      "\n",
      "epoch 55/150 loss: 0.017779399369260956  acc: 0.929493545183714\n",
      "Progress: |██████████████--------------------------| 56/150 epochs\n",
      "epoch 56/150 loss: 0.017844471186448784  acc: 0.9228732207878186\n",
      "Progress: |███████████████-------------------------| 57/150 epochs\n",
      "epoch 57/150 loss: 0.018022661333800705  acc: 0.9093015557762331\n",
      "Progress: |███████████████-------------------------| 58/150 epochs\n",
      "epoch 58/150 loss: 0.018034454608981634  acc: 0.9129427341939755\n",
      "Progress: |███████████████-------------------------| 59/150 epochs\n",
      "epoch 59/150 loss: 0.01808225792869358  acc: 0.9056603773584906\n",
      "Progress: |████████████████------------------------| 60/150 epochs\n",
      "epoch 59/150  val_acc: 0.605759682224429\n",
      "Current Best Accuracy: 0.6338960609069845\n",
      "\n",
      "epoch 60/150 loss: 0.01771270913108616  acc: 0.9301555776233036\n",
      "Progress: |████████████████------------------------| 61/150 epochs\n",
      "epoch 61/150 loss: 0.017773202498674943  acc: 0.9265143992055611\n",
      "Progress: |████████████████------------------------| 62/150 epochs\n",
      "epoch 62/150 loss: 0.01774112651853994  acc: 0.9278384640847401\n",
      "Progress: |████████████████------------------------| 63/150 epochs\n",
      "epoch 63/150 loss: 0.01763661067164603  acc: 0.9354518371400199\n",
      "Progress: |█████████████████-----------------------| 64/150 epochs\n",
      "epoch 64/150 loss: 0.01781566925926423  acc: 0.9255213505461768\n",
      "Progress: |█████████████████-----------------------| 65/150 epochs\n",
      "epoch 64/150  val_acc: 0.5249917245945052\n",
      "Current Best Accuracy: 0.6338960609069845\n",
      "\n",
      "epoch 65/150 loss: 0.017955779121712083  acc: 0.9169149288315127\n",
      "Progress: |█████████████████-----------------------| 66/150 epochs\n",
      "epoch 66/150 loss: 0.01762870189883937  acc: 0.9344587884806356\n",
      "Progress: |█████████████████-----------------------| 67/150 epochs\n",
      "epoch 67/150 loss: 0.01770595847593558  acc: 0.9304865938430983\n",
      "Progress: |██████████████████----------------------| 68/150 epochs\n",
      "epoch 68/150 loss: 0.017749833018919445  acc: 0.929493545183714\n",
      "Progress: |██████████████████----------------------| 69/150 epochs\n",
      "epoch 69/150 loss: 0.017846079229400947  acc: 0.9198940748096657\n",
      "Progress: |██████████████████----------------------| 70/150 epochs\n",
      "epoch 69/150  val_acc: 0.5822575306190003\n",
      "Current Best Accuracy: 0.6338960609069845\n",
      "\n",
      "epoch 70/150 loss: 0.017790678043864257  acc: 0.9218801721284343\n",
      "Progress: |██████████████████----------------------| 71/150 epochs\n",
      "epoch 71/150 loss: 0.01764302208738507  acc: 0.9344587884806356\n",
      "Progress: |███████████████████---------------------| 72/150 epochs\n",
      "epoch 72/150 loss: 0.017669847531651708  acc: 0.9321416749420721\n",
      "Progress: |███████████████████---------------------| 73/150 epochs\n",
      "epoch 73/150 loss: 0.01782431696393323  acc: 0.9235352532274081\n",
      "Progress: |███████████████████---------------------| 74/150 epochs\n",
      "epoch 74/150 loss: 0.017665796625578652  acc: 0.9314796425024826\n",
      "Progress: |████████████████████--------------------| 75/150 epochs\n",
      "epoch 74/150  val_acc: 0.559748427672956\n",
      "Current Best Accuracy: 0.6338960609069845\n",
      "\n",
      "epoch 75/150 loss: 0.01754914637000227  acc: 0.9394240317775571\n",
      "Progress: |████████████████████--------------------| 76/150 epochs\n",
      "epoch 76/150 loss: 0.01767322414168377  acc: 0.9337967560410461\n",
      "Progress: |████████████████████--------------------| 77/150 epochs\n",
      "epoch 77/150 loss: 0.01783274937370525  acc: 0.9215491559086395\n",
      "Progress: |████████████████████--------------------| 78/150 epochs\n",
      "epoch 78/150 loss: 0.01753218258425559  acc: 0.9427341939755048\n",
      "Progress: |█████████████████████-------------------| 79/150 epochs\n",
      "epoch 79/150 loss: 0.017891038770274745  acc: 0.92088712346905\n",
      "Progress: |█████████████████████-------------------| 80/150 epochs\n",
      "epoch 79/150  val_acc: 0.7341939755047997\n",
      "Current Best Accuracy: 0.6338960609069845\n",
      "Better Accuracy Found. Saving.\n",
      "\n",
      "epoch 80/150 loss: 0.017602189887007985  acc: 0.9364448857994042\n",
      "Progress: |█████████████████████-------------------| 81/150 epochs\n",
      "epoch 81/150 loss: 0.017596795360839197  acc: 0.9367759020191989\n",
      "Progress: |█████████████████████-------------------| 82/150 epochs\n",
      "epoch 82/150 loss: 0.017596133060701555  acc: 0.9377689506785832\n",
      "Progress: |██████████████████████------------------| 83/150 epochs\n",
      "epoch 83/150 loss: 0.01775753513861476  acc: 0.9248593181065872\n",
      "Progress: |██████████████████████------------------| 84/150 epochs\n",
      "epoch 84/150 loss: 0.017698254462150263  acc: 0.9318106587222774\n",
      "Progress: |██████████████████████------------------| 85/150 epochs\n",
      "epoch 84/150  val_acc: 0.5643826547500828\n",
      "Current Best Accuracy: 0.7341939755047997\n",
      "\n",
      "epoch 85/150 loss: 0.017653573155205837  acc: 0.9341277722608408\n",
      "Progress: |██████████████████████------------------| 86/150 epochs\n",
      "epoch 86/150 loss: 0.017646431962372807  acc: 0.9394240317775571\n",
      "Progress: |███████████████████████-----------------| 87/150 epochs\n",
      "epoch 87/150 loss: 0.017642397511206647  acc: 0.9371069182389937\n",
      "Progress: |███████████████████████-----------------| 88/150 epochs\n",
      "epoch 88/150 loss: 0.017565914156893868  acc: 0.9384309831181727\n",
      "Progress: |███████████████████████-----------------| 89/150 epochs\n",
      "epoch 89/150 loss: 0.01763152689461833  acc: 0.9394240317775571\n",
      "Progress: |████████████████████████----------------| 90/150 epochs\n",
      "epoch 89/150  val_acc: 0.5925190334326382\n",
      "Current Best Accuracy: 0.7341939755047997\n",
      "\n",
      "epoch 90/150 loss: 0.017428144639945513  acc: 0.9480304534922211\n",
      "Progress: |████████████████████████----------------| 91/150 epochs\n",
      "epoch 91/150 loss: 0.017494826078493838  acc: 0.946706388613042\n",
      "Progress: |████████████████████████----------------| 92/150 epochs\n",
      "epoch 92/150 loss: 0.017790606976028942  acc: 0.9265143992055611\n",
      "Progress: |████████████████████████----------------| 93/150 epochs\n",
      "epoch 93/150 loss: 0.017821296679582946  acc: 0.9218801721284343\n",
      "Progress: |█████████████████████████---------------| 94/150 epochs\n",
      "epoch 94/150 loss: 0.01759074725523882  acc: 0.9387619993379676\n",
      "Progress: |█████████████████████████---------------| 95/150 epochs\n",
      "epoch 94/150  val_acc: 0.572658060244952\n",
      "Current Best Accuracy: 0.7341939755047997\n",
      "\n",
      "epoch 95/150 loss: 0.017821977526018534  acc: 0.9241972856669977\n",
      "Progress: |█████████████████████████---------------| 96/150 epochs\n",
      "epoch 96/150 loss: 0.01749518808644562  acc: 0.9433962264150944\n",
      "Progress: |█████████████████████████---------------| 97/150 epochs\n",
      "epoch 97/150 loss: 0.017435759315819033  acc: 0.9490235021516055\n",
      "Progress: |██████████████████████████--------------| 98/150 epochs\n",
      "epoch 98/150 loss: 0.01760303149433256  acc: 0.9371069182389937\n",
      "Progress: |██████████████████████████--------------| 99/150 epochs\n",
      "epoch 99/150 loss: 0.017506493791291666  acc: 0.9430652101952995\n",
      "Progress: |██████████████████████████--------------| 100/150 epochs\n",
      "epoch 99/150  val_acc: 0.6726249586229726\n",
      "Current Best Accuracy: 0.7341939755047997\n",
      "\n",
      "epoch 100/150 loss: 0.017534842202301178  acc: 0.9420721615359152\n",
      "Progress: |██████████████████████████--------------| 101/150 epochs\n",
      "epoch 101/150 loss: 0.01751981883284194  acc: 0.9440582588546839\n",
      "Progress: |███████████████████████████-------------| 102/150 epochs\n",
      "epoch 102/150 loss: 0.01745537411728587  acc: 0.9490235021516055\n",
      "Progress: |███████████████████████████-------------| 103/150 epochs\n",
      "epoch 103/150 loss: 0.017484937310810713  acc: 0.9473684210526315\n",
      "Progress: |███████████████████████████-------------| 104/150 epochs\n",
      "epoch 104/150 loss: 0.017373329122821767  acc: 0.9490235021516055\n",
      "Progress: |████████████████████████████------------| 105/150 epochs\n",
      "epoch 104/150  val_acc: 0.5617345249917246\n",
      "Current Best Accuracy: 0.7341939755047997\n",
      "\n",
      "epoch 105/150 loss: 0.01758485726669347  acc: 0.9384309831181727\n",
      "Progress: |████████████████████████████------------| 106/150 epochs\n",
      "epoch 106/150 loss: 0.01738928181964883  acc: 0.9500165508109898\n",
      "Progress: |████████████████████████████------------| 107/150 epochs\n",
      "epoch 107/150 loss: 0.017524204400942364  acc: 0.9450513075140682\n",
      "Progress: |████████████████████████████------------| 108/150 epochs\n",
      "epoch 108/150 loss: 0.017741015556433943  acc: 0.9261833829857663\n",
      "Progress: |█████████████████████████████-----------| 109/150 epochs\n",
      "epoch 109/150 loss: 0.017569818349912128  acc: 0.9400860642171467\n",
      "Progress: |█████████████████████████████-----------| 110/150 epochs\n",
      "epoch 109/150  val_acc: 0.6607083747103608\n",
      "Current Best Accuracy: 0.7341939755047997\n",
      "\n",
      "epoch 110/150 loss: 0.0174527540778293  acc: 0.9470374048328368\n",
      "Progress: |█████████████████████████████-----------| 111/150 epochs\n",
      "epoch 111/150 loss: 0.017702537473169078  acc: 0.9324726911618669\n",
      "Progress: |█████████████████████████████-----------| 112/150 epochs\n",
      "epoch 112/150 loss: 0.017550642937865728  acc: 0.9394240317775571\n",
      "Progress: |██████████████████████████████----------| 113/150 epochs\n",
      "epoch 113/150 loss: 0.01753538533260948  acc: 0.9407480966567362\n",
      "Progress: |██████████████████████████████----------| 114/150 epochs\n",
      "epoch 114/150 loss: 0.017548446503746238  acc: 0.9433962264150944\n",
      "Progress: |██████████████████████████████----------| 115/150 epochs\n",
      "epoch 114/150  val_acc: 0.4574644157563721\n",
      "Current Best Accuracy: 0.7341939755047997\n",
      "\n",
      "epoch 115/150 loss: 0.017590230721110975  acc: 0.9371069182389937\n",
      "Progress: |██████████████████████████████----------| 116/150 epochs\n",
      "epoch 116/150 loss: 0.01745121832597891  acc: 0.9457133399536577\n",
      "Progress: |███████████████████████████████---------| 117/150 epochs\n",
      "epoch 117/150 loss: 0.017421812460304924  acc: 0.946706388613042\n",
      "Progress: |███████████████████████████████---------| 118/150 epochs\n",
      "epoch 118/150 loss: 0.01749422478383837  acc: 0.9420721615359152\n",
      "Progress: |███████████████████████████████---------| 119/150 epochs\n",
      "epoch 119/150 loss: 0.01743298514478848  acc: 0.9457133399536577\n",
      "Progress: |████████████████████████████████--------| 120/150 epochs\n",
      "epoch 119/150  val_acc: 0.5948361469712016\n",
      "Current Best Accuracy: 0.7341939755047997\n",
      "\n",
      "epoch 120/150 loss: 0.017452890255008457  acc: 0.9470374048328368\n",
      "Progress: |████████████████████████████████--------| 121/150 epochs\n",
      "epoch 121/150 loss: 0.01740939981769308  acc: 0.9486924859318107\n",
      "Progress: |████████████████████████████████--------| 122/150 epochs\n",
      "epoch 122/150 loss: 0.017379431446748472  acc: 0.9529956967891426\n",
      "Progress: |████████████████████████████████--------| 123/150 epochs\n",
      "epoch 123/150 loss: 0.017538778831610733  acc: 0.9410791128765309\n",
      "Progress: |█████████████████████████████████-------| 124/150 epochs\n",
      "epoch 124/150 loss: 0.01742901000231554  acc: 0.9483614697120158\n",
      "Progress: |█████████████████████████████████-------| 125/150 epochs\n",
      "epoch 124/150  val_acc: 0.5998013902681232\n",
      "Current Best Accuracy: 0.7341939755047997\n",
      "\n",
      "epoch 125/150 loss: 0.017544711910703645  acc: 0.9430652101952995\n",
      "Progress: |█████████████████████████████████-------| 126/150 epochs\n",
      "epoch 126/150 loss: 0.017636517111491935  acc: 0.9328037073816617\n",
      "Progress: |█████████████████████████████████-------| 127/150 epochs\n",
      "epoch 127/150 loss: 0.017460264420911833  acc: 0.9450513075140682\n",
      "Progress: |██████████████████████████████████------| 128/150 epochs\n",
      "epoch 128/150 loss: 0.01733468108443936  acc: 0.9523336643495531\n",
      "Progress: |██████████████████████████████████------| 129/150 epochs\n",
      "epoch 129/150 loss: 0.01730575059589587  acc: 0.9543197616683218\n",
      "Progress: |██████████████████████████████████------| 130/150 epochs\n",
      "epoch 129/150  val_acc: 0.5809334657398213\n",
      "Current Best Accuracy: 0.7341939755047997\n",
      "\n",
      "epoch 130/150 loss: 0.017428403419992144  acc: 0.9473684210526315\n",
      "Progress: |██████████████████████████████████------| 131/150 epochs\n",
      "epoch 131/150 loss: 0.017261625085986634  acc: 0.9559748427672956\n",
      "Progress: |███████████████████████████████████-----| 132/150 epochs\n",
      "epoch 132/150 loss: 0.017368464034268966  acc: 0.9520026481297583\n",
      "Progress: |███████████████████████████████████-----| 133/150 epochs\n",
      "epoch 133/150 loss: 0.017413703229639633  acc: 0.9450513075140682\n",
      "Progress: |███████████████████████████████████-----| 134/150 epochs\n",
      "epoch 134/150 loss: 0.017436741677706938  acc: 0.9490235021516055\n",
      "Progress: |████████████████████████████████████----| 135/150 epochs\n",
      "epoch 134/150  val_acc: 0.6385302879841113\n",
      "Current Best Accuracy: 0.7341939755047997\n",
      "\n",
      "epoch 135/150 loss: 0.01746460993690074  acc: 0.9427341939755048\n",
      "Progress: |████████████████████████████████████----| 136/150 epochs\n",
      "epoch 136/150 loss: 0.01734169939818346  acc: 0.9543197616683218\n",
      "Progress: |████████████████████████████████████----| 137/150 epochs\n",
      "epoch 137/150 loss: 0.017492902156573502  acc: 0.9463753723932473\n",
      "Progress: |████████████████████████████████████----| 138/150 epochs\n",
      "epoch 138/150 loss: 0.017573213387861508  acc: 0.9357828533598146\n",
      "Progress: |█████████████████████████████████████---| 139/150 epochs\n",
      "epoch 139/150 loss: 0.017461259370606216  acc: 0.9447202912942734\n",
      "Progress: |█████████████████████████████████████---| 140/150 epochs\n",
      "epoch 139/150  val_acc: 0.6888447533929163\n",
      "Current Best Accuracy: 0.7341939755047997\n",
      "\n",
      "epoch 140/150 loss: 0.017405662857037985  acc: 0.9470374048328368\n",
      "Progress: |█████████████████████████████████████---| 141/150 epochs\n",
      "epoch 141/150 loss: 0.01731830983318189  acc: 0.9533267130089375\n",
      "Progress: |█████████████████████████████████████---| 142/150 epochs\n",
      "epoch 142/150 loss: 0.01749142133333319  acc: 0.9430652101952995\n",
      "Progress: |██████████████████████████████████████--| 143/150 epochs\n",
      "epoch 143/150 loss: 0.01747047617040064  acc: 0.9447202912942734\n",
      "Progress: |██████████████████████████████████████--| 144/150 epochs\n",
      "epoch 144/150 loss: 0.01757408399843925  acc: 0.9414101290963257\n",
      "Progress: |██████████████████████████████████████--| 145/150 epochs\n",
      "epoch 144/150  val_acc: 0.5948361469712016\n",
      "Current Best Accuracy: 0.7341939755047997\n",
      "\n",
      "epoch 145/150 loss: 0.017538657846611804  acc: 0.94240317775571\n",
      "Progress: |██████████████████████████████████████--| 146/150 epochs\n",
      "epoch 146/150 loss: 0.017465250652304393  acc: 0.9440582588546839\n",
      "Progress: |███████████████████████████████████████-| 147/150 epochs\n",
      "epoch 147/150 loss: 0.017804931899799648  acc: 0.9245283018867925\n",
      "Progress: |███████████████████████████████████████-| 148/150 epochs\n",
      "epoch 148/150 loss: 0.01740828605331123  acc: 0.9480304534922211\n",
      "Progress: |███████████████████████████████████████-| 149/150 epochs\n",
      "epoch 149/150 loss: 0.017382998018223732  acc: 0.953988745448527\n",
      "Progress: |████████████████████████████████████████| 150/150 epochs\n",
      "epoch 149/150  val_acc: 0.6567361800728235\n",
      "Current Best Accuracy: 0.7341939755047997\n",
      "\n",
      "Done Training, printing the Loss and Accuracy Curves\n",
      "Loading the model.\n"
     ]
    },
    {
     "data": {
      "text/plain": [
       "AttentionGCN(\n",
       "  (conv1): Conv2d(17, 8, kernel_size=(1, 1), stride=(1, 1))\n",
       "  (bn1): BatchNorm2d(8, eps=0.001, momentum=0.1, affine=True, track_running_stats=True)\n",
       "  (attention): CoAtNetRelativeAttention(\n",
       "    (Q): Linear(in_features=8, out_features=8, bias=False)\n",
       "    (K): Linear(in_features=8, out_features=8, bias=False)\n",
       "    (V): Linear(in_features=8, out_features=8, bias=False)\n",
       "    (out_linear): Linear(in_features=8, out_features=8, bias=True)\n",
       "    (attention_dropout): Dropout2d(p=0.1, inplace=False)\n",
       "    (out_dropout): Dropout(p=0.1, inplace=False)\n",
       "  )\n",
       "  (squeezer): Conv1d(64, 16, kernel_size=(1,), stride=(1,))\n",
       "  (gconv): Conv1d(16, 64, kernel_size=(1,), stride=(1,))\n",
       "  (unsqueezer): Conv1d(64, 64, kernel_size=(1,), stride=(1,))\n",
       "  (conv2): Conv2d(32, 32, kernel_size=(1, 1), stride=(1, 1))\n",
       "  (bn2): BatchNorm2d(32, eps=0.001, momentum=0.1, affine=True, track_running_stats=True)\n",
       "  (squeezer2): Conv1d(64, 64, kernel_size=(1,), stride=(1,))\n",
       "  (gconv2): Conv1d(32, 32, kernel_size=(1,), stride=(1,))\n",
       "  (unsqueezer2): Conv1d(32, 64, kernel_size=(1,), stride=(1,))\n",
       "  (conv3): Conv2d(136, 32, kernel_size=(1, 1), stride=(1, 1))\n",
       "  (bn3): BatchNorm2d(32, eps=0.001, momentum=0.1, affine=True, track_running_stats=True)\n",
       "  (conv4): Conv2d(32, 64, kernel_size=(3, 3), stride=(1, 1), padding=(1, 1))\n",
       "  (bn4): BatchNorm2d(64, eps=0.001, momentum=0.1, affine=True, track_running_stats=True)\n",
       "  (conv5): Conv2d(64, 128, kernel_size=(1, 1), stride=(1, 1))\n",
       "  (bn5): BatchNorm2d(128, eps=0.001, momentum=0.1, affine=True, track_running_stats=True)\n",
       "  (fc1): Linear(in_features=8192, out_features=100, bias=True)\n",
       "  (fc2): Linear(in_features=100, out_features=20, bias=True)\n",
       "  (fc3): Linear(in_features=20, out_features=6, bias=True)\n",
       ")"
      ]
     },
     "execution_count": 57,
     "metadata": {},
     "output_type": "execute_result"
    },
    {
     "data": {
      "image/png": "[encoded data removed]",
      "text/plain": [
       "<Figure size 640x480 with 2 Axes>"
      ]
     },
     "metadata": {},
     "output_type": "display_data"
    }
   ],
   "source": [
    "fig, (ax1, ax2) = plt.subplots(2, 1)\n",
    "\n",
    "for e in range(EPOCH):\n",
    "    model.train()\n",
    "    avg_loss = 0.\n",
    "    train_acc = 0.\n",
    "    \n",
    "    for batch_idx, (data, target) in enumerate(train_loader):\n",
    "        data, target = data.to(device), target.to(device)\n",
    "        data = apply_pca(data).to(device)\n",
    "        optimizer.zero_grad()\n",
    "        out = model(data)\n",
    "        target = target - 1  # class 0 in out is class 1 in target\n",
    "        loss = criterion(out, target)\n",
    "        loss.backward()\n",
    "        optimizer.step()\n",
    "        avg_loss += loss.item()\n",
    "        _, pred = torch.max(out, dim=1)\n",
    "        train_acc += (pred == target).sum().item()\n",
    "    \n",
    "    loss_list.append(avg_loss / train_num)\n",
    "    acc_list.append(train_acc / train_num)\n",
    "    print(f\"\\nepoch {e}/{EPOCH} loss: {loss_list[e]}  acc: {acc_list[e]}\")\n",
    "    custom_progress_bar(e + 1, EPOCH)\n",
    "\n",
    "    # Validation\n",
    "    if (e + 1) % VAL_EPOCH == 0 or (e + 1) == EPOCH:\n",
    "        val_acc = 0\n",
    "        model.eval()\n",
    "        for batch_idx, (data, target) in enumerate(val_loader):\n",
    "            data, target = data.to(device), target.to(device)\n",
    "            data = apply_pca(data).to(device)\n",
    "            out = model(data)\n",
    "            target = target - 1\n",
    "            _, pred = torch.max(out, dim=1)\n",
    "            val_acc += (pred == target).sum().item()\n",
    "        \n",
    "        val_acc_list.append(val_acc / val_num)\n",
    "        val_epoch_list.append(e)\n",
    "        print(f\"\\nepoch {e}/{EPOCH}  val_acc: {val_acc_list[-1]}\")\n",
    "        print(f\"Current Best Accuracy: {BestAcc}\")\n",
    "        \n",
    "        if val_acc_list[-1] > BestAcc:\n",
    "            print(\"Better Accuracy Found. Saving.\")\n",
    "            BestAcc = val_acc_list[-1]\n",
    "            torch.save(model.state_dict(), f\"{datasetName}/{BestAcc:.4f}_net_params.pkl\")\n",
    "\n",
    "print(\"\\nDone Training, printing the Loss and Accuracy Curves\")\n",
    "ax1.plot(np.arange(EPOCH), loss_list)\n",
    "ax1.set_title('loss')\n",
    "ax1.set_xlabel('epoch')\n",
    "ax2.plot(np.arange(EPOCH), acc_list, label='train_acc')\n",
    "ax2.plot(val_epoch_list, val_acc_list, label='val_acc')\n",
    "ax2.set_title('acc')\n",
    "ax2.set_xlabel('epoch')\n",
    "ax2.legend()\n",
    "\n",
    "print(\"Loading the model.\")\n",
    "model.load_state_dict(torch.load(f\"{datasetName}/{BestAcc:.4f}_net_params.pkl\"))\n",
    "model.eval()"
   ]
  },
  {
   "cell_type": "code",
   "execution_count": 58,
   "id": "ad95c2bc",
   "metadata": {
    "execution": {
     "iopub.execute_input": "2025-04-01T09:02:30.504369Z",
     "iopub.status.busy": "2025-04-01T09:02:30.503694Z",
     "iopub.status.idle": "2025-04-01T09:02:35.546080Z",
     "shell.execute_reply": "2025-04-01T09:02:35.545125Z"
    },
    "papermill": {
     "duration": 5.067598,
     "end_time": "2025-04-01T09:02:35.547875",
     "exception": false,
     "start_time": "2025-04-01T09:02:30.480277",
     "status": "completed"
    },
    "tags": []
   },
   "outputs": [
    {
     "name": "stdout",
     "output_type": "stream",
     "text": [
      "Testing the model.\n",
      "Observed OA = 68.53797782558331\n",
      "Saving model as pt.\n",
      "Stop in epoch 149\n",
      "OA: 68.54 ± 0.00\n",
      "AA: 58.41 ± 0.00\n",
      "Kappa: 59.31 ± 0.00\n"
     ]
    }
   ],
   "source": [
    "print(\"Testing the model.\")\n",
    "confusion, oa, each_acc, aa, kappa = reports(test_loader, save_dir_name, model)\n",
    "OA.append(oa)\n",
    "AA.append(aa)\n",
    "Kappa.append(kappa)\n",
    "ELEMENT_ACC[1, :] = each_acc\n",
    "print(f\"Observed OA = {oa}\")\n",
    "print(\"Saving model as pt.\")\n",
    "torch.save(model, f\"{datasetName}/best_model{oa:.5f}.pt\")\n",
    "print(f'Stop in epoch {e}')\n",
    "\n",
    "print(f\"OA: {np.mean(OA):.2f} ± {np.std(OA):.2f}\")\n",
    "print(f\"AA: {np.mean(AA):.2f} ± {np.std(AA):.2f}\")\n",
    "print(f\"Kappa: {np.mean(Kappa):.2f} ± {np.std(Kappa):.2f}\")"
   ]
  },
  {
   "cell_type": "code",
   "execution_count": 59,
   "id": "7eeace1c",
   "metadata": {
    "execution": {
     "iopub.execute_input": "2025-04-01T09:02:35.595148Z",
     "iopub.status.busy": "2025-04-01T09:02:35.594889Z",
     "iopub.status.idle": "2025-04-01T09:08:19.073174Z",
     "shell.execute_reply": "2025-04-01T09:08:19.072466Z"
    },
    "papermill": {
     "duration": 343.503775,
     "end_time": "2025-04-01T09:08:19.075218",
     "exception": false,
     "start_time": "2025-04-01T09:02:35.571443",
     "status": "completed"
    },
    "tags": []
   },
   "outputs": [],
   "source": [
    "predict_and_save_grid(all_data, model, \"prediction_map.png\")"
   ]
  },
  {
   "cell_type": "code",
   "execution_count": 60,
   "id": "a8782818",
   "metadata": {
    "execution": {
     "iopub.execute_input": "2025-04-01T09:08:19.122754Z",
     "iopub.status.busy": "2025-04-01T09:08:19.122152Z",
     "iopub.status.idle": "2025-04-01T09:08:19.126372Z",
     "shell.execute_reply": "2025-04-01T09:08:19.125647Z"
    },
    "papermill": {
     "duration": 0.029255,
     "end_time": "2025-04-01T09:08:19.127961",
     "exception": false,
     "start_time": "2025-04-01T09:08:19.098706",
     "status": "completed"
    },
    "tags": []
   },
   "outputs": [],
   "source": [
    "# def record_output(oa_ae, aa_ae, kappa_ae, element_acc_ae, path):\n",
    "#     f = open(path, 'w')\n",
    "#     sentence0 = 'OAs for each iteration are:' + str(oa_ae) + '\\n'\n",
    "#     f.write(sentence0)\n",
    "#     sentence1 = 'AAs for each iteration are:' + str(aa_ae) + '\\n'\n",
    "#     f.write(sentence1)\n",
    "#     sentence2 = 'KAPPAs for each iteration are:' + str(kappa_ae) + '\\n' + '\\n'\n",
    "#     f.write(sentence2)\n",
    "#     sentence3 = 'mean_OA ± std_OA is: ' + str(np.mean(oa_ae)) + ' ± ' + str(np.std(oa_ae)) + '\\n'\n",
    "#     f.write(sentence3)\n",
    "#     sentence4 = 'mean_AA ± std_AA is: ' + str(np.mean(aa_ae)) + ' ± ' + str(np.std(aa_ae)) + '\\n'\n",
    "#     f.write(sentence4)\n",
    "#     sentence5 = 'mean_KAPPA ± std_KAPPA is: ' + str(np.mean(kappa_ae)) + ' ± ' + str(np.std(kappa_ae)) + '\\n' + '\\n'\n",
    "#     f.write(sentence5)\n",
    "    \n",
    "#     element_mean = np.mean(element_acc_ae, axis=0)\n",
    "#     element_std = np.std(element_acc_ae, axis=0)\n",
    "#     sentence8 = \"Mean of all elements in confusion matrix: \" + str(element_mean) + '\\n'\n",
    "#     f.write(sentence8)\n",
    "#     sentence9 = \"Standard deviation of all elements in confusion matrix: \" + str(element_std) + '\\n' + '\\n'\n",
    "#     f.write(sentence9)\n",
    "#     element_mean = list(element_mean)\n",
    "#     element_mean.extend([np.mean(oa_ae),np.mean(aa_ae),np.mean(kappa_ae)])\n",
    "#     element_std = list(element_std)\n",
    "#     element_std.extend([np.std(oa_ae),np.std(aa_ae),np.std(kappa_ae)])\n",
    "#     sentence10 = \"All values without std: \" + str(element_mean) + '\\n' + '\\n'\n",
    "#     f.write(sentence10)\n",
    "#     sentence11 = \"All values with std: \"\n",
    "#     for i,x in enumerate(element_mean):\n",
    "#         sentence11 += str(element_mean[i]) + \" ± \" +  str(element_std[i]) + \", \"\n",
    "#     sentence11 += \"\\n\"\n",
    "#     f.write(sentence11)\n",
    "#     f.close()"
   ]
  },
  {
   "cell_type": "code",
   "execution_count": 61,
   "id": "539f9a73",
   "metadata": {
    "execution": {
     "iopub.execute_input": "2025-04-01T09:08:19.173830Z",
     "iopub.status.busy": "2025-04-01T09:08:19.173563Z",
     "iopub.status.idle": "2025-04-01T09:08:19.176902Z",
     "shell.execute_reply": "2025-04-01T09:08:19.176228Z"
    },
    "papermill": {
     "duration": 0.028127,
     "end_time": "2025-04-01T09:08:19.178428",
     "exception": false,
     "start_time": "2025-04-01T09:08:19.150301",
     "status": "completed"
    },
    "tags": []
   },
   "outputs": [],
   "source": [
    "# record_output(OA, AA, Kappa, ELEMENT_ACC, './' + datasetName + '_Reporttt.txt')"
   ]
  },
  {
   "cell_type": "code",
   "execution_count": 62,
   "id": "10aa42e6",
   "metadata": {
    "execution": {
     "iopub.execute_input": "2025-04-01T09:08:19.224458Z",
     "iopub.status.busy": "2025-04-01T09:08:19.224228Z",
     "iopub.status.idle": "2025-04-01T09:08:19.228413Z",
     "shell.execute_reply": "2025-04-01T09:08:19.227607Z"
    },
    "papermill": {
     "duration": 0.029185,
     "end_time": "2025-04-01T09:08:19.229950",
     "exception": false,
     "start_time": "2025-04-01T09:08:19.200765",
     "status": "completed"
    },
    "tags": []
   },
   "outputs": [],
   "source": [
    "# def get_best_model(acc_list, epoch_list, save_path):\n",
    "#     \"\"\"\n",
    "#     Get the path of the best model based on the validation accuracy.\n",
    "\n",
    "#     Args:\n",
    "#       acc_list (list): List of validation accuracy values.\n",
    "#       epoch_list (list): List of epoch numbers corresponding to the validation accuracy.\n",
    "#       save_path (str): Path to the directory where the models are saved.\n",
    "\n",
    "#     Returns:\n",
    "#       str: Path of the best model.\n",
    "\n",
    "#     This function takes a list of validation accuracy values (`acc_list`), a list of corresponding epoch numbers (`epoch_list`),\n",
    "#     and the directory path (`save_path`) where the models are saved. It identifies the epoch with the highest validation accuracy\n",
    "#     and returns the path to the corresponding model. Additionally, it deletes all other saved models except for the best one.\n",
    "\n",
    "#     \"\"\"\n",
    "#     acc_list = np.array(acc_list)\n",
    "#     epoch_list = np.array(epoch_list)\n",
    "#     best_index = np.argwhere(acc_list==np.max(acc_list))[-1].item()\n",
    "#     best_epoch = epoch_list[best_index]\n",
    "#     best_acc = acc_list[best_index]\n",
    "#     file_name = f\"epoch_{best_epoch}_acc_{best_acc:.4f}.pth\"\n",
    "#     best_model_path = os.path.join(save_path, file_name)\n",
    "#     print(f\"Best model: {file_name}\")\n",
    "\n",
    "#     # delete saved models except for the best one\n",
    "#     for f in os.listdir(save_path):\n",
    "#         if f.endswith('.pth') and os.path.join(save_path, f) != best_model_path:\n",
    "#             os.remove(os.path.join(save_path, f))\n",
    "\n",
    "#     return best_model_path\n"
   ]
  },
  {
   "cell_type": "code",
   "execution_count": 63,
   "id": "01285223",
   "metadata": {
    "execution": {
     "iopub.execute_input": "2025-04-01T09:08:19.276220Z",
     "iopub.status.busy": "2025-04-01T09:08:19.275986Z",
     "iopub.status.idle": "2025-04-01T09:08:19.279249Z",
     "shell.execute_reply": "2025-04-01T09:08:19.278541Z"
    },
    "papermill": {
     "duration": 0.028176,
     "end_time": "2025-04-01T09:08:19.280744",
     "exception": false,
     "start_time": "2025-04-01T09:08:19.252568",
     "status": "completed"
    },
    "tags": []
   },
   "outputs": [],
   "source": [
    "# # loading the best model\n",
    "# best_model_path = \"/kaggle/working/Houston2018/best_model_Iter297.17732.pth\"\n",
    "# best_model = Transformer(\n",
    "#     FM, \n",
    "#     NC, \n",
    "#     Classes, \n",
    "#     ntokens, \n",
    "#     num_heads, \n",
    "#     mlp_dim, \n",
    "#     depth\n",
    "# ).to(device)\n",
    "# best_model.load_state_dict(torch.load(best_model_path))"
   ]
  },
  {
   "cell_type": "code",
   "execution_count": 64,
   "id": "5b4d1e96",
   "metadata": {
    "execution": {
     "iopub.execute_input": "2025-04-01T09:08:19.326983Z",
     "iopub.status.busy": "2025-04-01T09:08:19.326712Z",
     "iopub.status.idle": "2025-04-01T09:08:19.329928Z",
     "shell.execute_reply": "2025-04-01T09:08:19.329276Z"
    },
    "papermill": {
     "duration": 0.028271,
     "end_time": "2025-04-01T09:08:19.331538",
     "exception": false,
     "start_time": "2025-04-01T09:08:19.303267",
     "status": "completed"
    },
    "tags": []
   },
   "outputs": [],
   "source": [
    "# best_model.eval()"
   ]
  },
  {
   "cell_type": "code",
   "execution_count": 65,
   "id": "9b8ba2f1",
   "metadata": {
    "execution": {
     "iopub.execute_input": "2025-04-01T09:08:19.377500Z",
     "iopub.status.busy": "2025-04-01T09:08:19.377278Z",
     "iopub.status.idle": "2025-04-01T09:08:19.380574Z",
     "shell.execute_reply": "2025-04-01T09:08:19.379913Z"
    },
    "papermill": {
     "duration": 0.02804,
     "end_time": "2025-04-01T09:08:19.382128",
     "exception": false,
     "start_time": "2025-04-01T09:08:19.354088",
     "status": "completed"
    },
    "tags": []
   },
   "outputs": [],
   "source": [
    "# pred_map = []\n",
    "# for batch_idx, data in tqdm(enumerate(all_loader),total=len(all_loader)):\n",
    "#     data = data.to(device)\n",
    "#     target = best_model(data)\n",
    "#     pred = torch.argmax(target, dim=1)\n",
    "#     pred_map += [np.array(pred.detach().cpu() + 1)]   ## class 0 in pred_map is class 1 in gt\n",
    "# pred_map = np.asarray(np.hstack(pred_map),dtype=np.uint8).reshape(y.shape[0],y.shape[1])\n",
    "# spectral.imshow(classes=pred_map,title='prediction',figsize=(7,7))\n",
    "# spectral.imshow(classes=pred_map*(y!=0),title='prediction_masked',figsize=(7,7))\n",
    "# spectral.save_rgb(os.path.join(SAVE_PATH,f\"prediction.jpg\"),pred_map,colors = spectral.spy_colors)\n",
    "# spectral.save_rgb(os.path.join(SAVE_PATH,f\"prediction_masked.jpg\"),pred_map*(y!=0),colors = spectral.spy_colors)"
   ]
  },
  {
   "cell_type": "code",
   "execution_count": 66,
   "id": "e5a88f8c",
   "metadata": {
    "execution": {
     "iopub.execute_input": "2025-04-01T09:08:19.427675Z",
     "iopub.status.busy": "2025-04-01T09:08:19.427448Z",
     "iopub.status.idle": "2025-04-01T09:08:19.430478Z",
     "shell.execute_reply": "2025-04-01T09:08:19.429803Z"
    },
    "papermill": {
     "duration": 0.02777,
     "end_time": "2025-04-01T09:08:19.432089",
     "exception": false,
     "start_time": "2025-04-01T09:08:19.404319",
     "status": "completed"
    },
    "tags": []
   },
   "outputs": [],
   "source": [
    "# class_name = [\"grass healthy\", \"grass stressed\", \"trees\",\n",
    "#                         \"water\", \"residential buildings\",\n",
    "#                         \"non-residential buildings\", \"road\"]"
   ]
  },
  {
   "cell_type": "code",
   "execution_count": 67,
   "id": "4956fe48",
   "metadata": {
    "execution": {
     "iopub.execute_input": "2025-04-01T09:08:19.478070Z",
     "iopub.status.busy": "2025-04-01T09:08:19.477496Z",
     "iopub.status.idle": "2025-04-01T09:08:19.480915Z",
     "shell.execute_reply": "2025-04-01T09:08:19.480248Z"
    },
    "papermill": {
     "duration": 0.028045,
     "end_time": "2025-04-01T09:08:19.482481",
     "exception": false,
     "start_time": "2025-04-01T09:08:19.454436",
     "status": "completed"
    },
    "tags": []
   },
   "outputs": [],
   "source": [
    "# test_pred = pred_map[test_gt!=0]\n",
    "# test_true = test_gt[test_gt!=0]\n",
    "\n",
    "# accuracy = accuracy_score(test_true,test_pred)\n",
    "# recall = recall_score(test_true,test_pred,average='macro')\n",
    "# kappa = cohen_kappa_score(test_true,test_pred)\n",
    "# report_log = f\"OA: {accuracy}\\nAA: {recall}\\nKappa: {kappa}\\n\"\n",
    "# report_log += classification_report(test_true,test_pred,target_names=class_name,digits=4)\n",
    "# print(report_log)\n",
    "# fp = open(os.path.join(SAVE_PATH,'classfication_report.txt'),'w+')\n",
    "# fp.writelines(report_log)\n",
    "# fp.close()"
   ]
  },
  {
   "cell_type": "code",
   "execution_count": null,
   "id": "6aa0980e",
   "metadata": {
    "papermill": {
     "duration": 0.022458,
     "end_time": "2025-04-01T09:08:19.527153",
     "exception": false,
     "start_time": "2025-04-01T09:08:19.504695",
     "status": "completed"
    },
    "tags": []
   },
   "outputs": [],
   "source": []
  }
 ],
 "metadata": {
  "kaggle": {
   "accelerator": "gpu",
   "dataSources": [
    {
     "datasetId": 5343940,
     "sourceId": 8878677,
     "sourceType": "datasetVersion"
    },
    {
     "datasetId": 5344162,
     "sourceId": 8879281,
     "sourceType": "datasetVersion"
    },
    {
     "datasetId": 7020047,
     "sourceId": 11237007,
     "sourceType": "datasetVersion"
    }
   ],
   "dockerImageVersionId": 30733,
   "isGpuEnabled": true,
   "isInternetEnabled": true,
   "language": "python",
   "sourceType": "notebook"
  },
  "kernelspec": {
   "display_name": "Python 3",
   "language": "python",
   "name": "python3"
  },
  "language_info": {
   "codemirror_mode": {
    "name": "ipython",
    "version": 3
   },
   "file_extension": ".py",
   "mimetype": "text/x-python",
   "name": "python",
   "nbconvert_exporter": "python",
   "pygments_lexer": "ipython3",
   "version": "3.10.13"
  },
  "papermill": {
   "default_parameters": {},
   "duration": 623.945839,
   "end_time": "2025-04-01T09:08:20.971079",
   "environment_variables": {},
   "exception": null,
   "input_path": "__notebook__.ipynb",
   "output_path": "__notebook__.ipynb",
   "parameters": {},
   "start_time": "2025-04-01T08:57:57.025240",
   "version": "2.5.0"
  }
 },
 "nbformat": 4,
 "nbformat_minor": 5
}
